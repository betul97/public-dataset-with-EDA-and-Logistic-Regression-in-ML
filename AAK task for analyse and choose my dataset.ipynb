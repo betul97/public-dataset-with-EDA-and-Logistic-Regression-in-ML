{
 "cells": [
  {
   "cell_type": "code",
   "execution_count": 1,
   "id": "a274c36b",
   "metadata": {},
   "outputs": [],
   "source": [
    "import numpy as np\n",
    "import pandas as pd\n",
    "import seaborn as sns\n",
    "import matplotlib.pyplot as plt\n",
    "from pandas.plotting import register_matplotlib_converters\n",
    "from pylab import rcParams\n",
    "sns.set_style(\"darkgrid\")\n",
    "\n",
    "import plotly \n",
    "import plotly.express as px\n",
    "import plotly.graph_objs as go\n",
    "import plotly.offline as py\n",
    "from plotly.offline import iplot\n",
    "from plotly.subplots import make_subplots\n",
    "import plotly.figure_factory as ff\n",
    "\n",
    "import warnings\n",
    "warnings.filterwarnings(\"ignore\")\n",
    "#in these code we import the libraries for the right work."
   ]
  },
  {
   "cell_type": "code",
   "execution_count": 2,
   "id": "20815823",
   "metadata": {},
   "outputs": [],
   "source": [
    "#1.These AREA for the data extraction and EDA process"
   ]
  },
  {
   "cell_type": "code",
   "execution_count": 3,
   "id": "65938a0a",
   "metadata": {},
   "outputs": [],
   "source": [
    "#in these code i pull and read the datas from computer to follow EDA process and for multi label classification after.\n",
    "df = pd.read_csv('/Users/arifkirsakal/Downloads/attendance.csv')\n",
    "df1=pd.read_csv('/Users/arifkirsakal/Downloads/homework.csv')\n",
    "df2=pd.read_csv('/Users/arifkirsakal/Downloads/performance.csv')\n",
    "df3=pd.read_csv('/Users/arifkirsakal/Downloads/students.csv')\n",
    "df4=pd.read_csv('/Users/arifkirsakal/Downloads/teacher_parent_communication.csv')"
   ]
  },
  {
   "cell_type": "code",
   "execution_count": 4,
   "id": "60f22983",
   "metadata": {},
   "outputs": [
    {
     "data": {
      "text/html": [
       "<div>\n",
       "<style scoped>\n",
       "    .dataframe tbody tr th:only-of-type {\n",
       "        vertical-align: middle;\n",
       "    }\n",
       "\n",
       "    .dataframe tbody tr th {\n",
       "        vertical-align: top;\n",
       "    }\n",
       "\n",
       "    .dataframe thead th {\n",
       "        text-align: right;\n",
       "    }\n",
       "</style>\n",
       "<table border=\"1\" class=\"dataframe\">\n",
       "  <thead>\n",
       "    <tr style=\"text-align: right;\">\n",
       "      <th></th>\n",
       "      <th>Student_ID</th>\n",
       "      <th>Date</th>\n",
       "      <th>Subject</th>\n",
       "      <th>Attendance_Status</th>\n",
       "    </tr>\n",
       "  </thead>\n",
       "  <tbody>\n",
       "    <tr>\n",
       "      <th>0</th>\n",
       "      <td>S06592</td>\n",
       "      <td>2024-09-20</td>\n",
       "      <td>Arabic</td>\n",
       "      <td>Present</td>\n",
       "    </tr>\n",
       "    <tr>\n",
       "      <th>1</th>\n",
       "      <td>S01777</td>\n",
       "      <td>2025-01-22</td>\n",
       "      <td>Math</td>\n",
       "      <td>Present</td>\n",
       "    </tr>\n",
       "    <tr>\n",
       "      <th>2</th>\n",
       "      <td>S07362</td>\n",
       "      <td>2024-12-03</td>\n",
       "      <td>Geography</td>\n",
       "      <td>PRESENT</td>\n",
       "    </tr>\n",
       "    <tr>\n",
       "      <th>3</th>\n",
       "      <td>S12119</td>\n",
       "      <td>2024-03-16</td>\n",
       "      <td>Geography</td>\n",
       "      <td>excused</td>\n",
       "    </tr>\n",
       "    <tr>\n",
       "      <th>4</th>\n",
       "      <td>S02002</td>\n",
       "      <td>2024-05-24</td>\n",
       "      <td>Math</td>\n",
       "      <td>PRESENT</td>\n",
       "    </tr>\n",
       "  </tbody>\n",
       "</table>\n",
       "</div>"
      ],
      "text/plain": [
       "  Student_ID        Date    Subject Attendance_Status\n",
       "0     S06592  2024-09-20     Arabic           Present\n",
       "1     S01777  2025-01-22       Math           Present\n",
       "2     S07362  2024-12-03  Geography          PRESENT \n",
       "3     S12119  2024-03-16  Geography           excused\n",
       "4     S02002  2024-05-24       Math          PRESENT "
      ]
     },
     "execution_count": 4,
     "metadata": {},
     "output_type": "execute_result"
    }
   ],
   "source": [
    "df.head()"
   ]
  },
  {
   "cell_type": "code",
   "execution_count": 5,
   "id": "e45035d1",
   "metadata": {},
   "outputs": [
    {
     "data": {
      "text/html": [
       "<div>\n",
       "<style scoped>\n",
       "    .dataframe tbody tr th:only-of-type {\n",
       "        vertical-align: middle;\n",
       "    }\n",
       "\n",
       "    .dataframe tbody tr th {\n",
       "        vertical-align: top;\n",
       "    }\n",
       "\n",
       "    .dataframe thead th {\n",
       "        text-align: right;\n",
       "    }\n",
       "</style>\n",
       "<table border=\"1\" class=\"dataframe\">\n",
       "  <thead>\n",
       "    <tr style=\"text-align: right;\">\n",
       "      <th></th>\n",
       "      <th>Student_ID</th>\n",
       "      <th>Subject</th>\n",
       "      <th>Assignment_Name</th>\n",
       "      <th>Due_Date</th>\n",
       "      <th>Status</th>\n",
       "      <th>Grade_Feedback</th>\n",
       "      <th>Guardian_Signature</th>\n",
       "    </tr>\n",
       "  </thead>\n",
       "  <tbody>\n",
       "    <tr>\n",
       "      <th>0</th>\n",
       "      <td>S12002</td>\n",
       "      <td>Science</td>\n",
       "      <td>Record.</td>\n",
       "      <td>2024-09-10</td>\n",
       "      <td>❌</td>\n",
       "      <td>C-</td>\n",
       "      <td>Yes</td>\n",
       "    </tr>\n",
       "    <tr>\n",
       "      <th>1</th>\n",
       "      <td>S01255</td>\n",
       "      <td>History</td>\n",
       "      <td>Head baby.</td>\n",
       "      <td>2024-10-16</td>\n",
       "      <td>❌</td>\n",
       "      <td>A+</td>\n",
       "      <td>No</td>\n",
       "    </tr>\n",
       "    <tr>\n",
       "      <th>2</th>\n",
       "      <td>S04968</td>\n",
       "      <td>Arabic</td>\n",
       "      <td>Keep audience medical free.</td>\n",
       "      <td>2025-02-11</td>\n",
       "      <td>Done</td>\n",
       "      <td>A+</td>\n",
       "      <td>Yes</td>\n",
       "    </tr>\n",
       "    <tr>\n",
       "      <th>3</th>\n",
       "      <td>S07925</td>\n",
       "      <td>Geography</td>\n",
       "      <td>Three half peace.</td>\n",
       "      <td>2024-10-03</td>\n",
       "      <td>Done</td>\n",
       "      <td>A+</td>\n",
       "      <td></td>\n",
       "    </tr>\n",
       "    <tr>\n",
       "      <th>4</th>\n",
       "      <td>S09980</td>\n",
       "      <td>Geography</td>\n",
       "      <td>Assume particularly.</td>\n",
       "      <td>2024-12-01</td>\n",
       "      <td>✅</td>\n",
       "      <td>B-</td>\n",
       "      <td>No</td>\n",
       "    </tr>\n",
       "  </tbody>\n",
       "</table>\n",
       "</div>"
      ],
      "text/plain": [
       "  Student_ID    Subject              Assignment_Name    Due_Date  Status  \\\n",
       "0     S12002    Science                      Record.  2024-09-10       ❌   \n",
       "1     S01255    History                   Head baby.  2024-10-16       ❌   \n",
       "2     S04968     Arabic  Keep audience medical free.  2025-02-11   Done    \n",
       "3     S07925  Geography            Three half peace.  2024-10-03   Done    \n",
       "4     S09980  Geography         Assume particularly.  2024-12-01       ✅   \n",
       "\n",
       "  Grade_Feedback Guardian_Signature  \n",
       "0             C-                Yes  \n",
       "1             A+                 No  \n",
       "2             A+                Yes  \n",
       "3             A+                     \n",
       "4             B-                 No  "
      ]
     },
     "execution_count": 5,
     "metadata": {},
     "output_type": "execute_result"
    }
   ],
   "source": [
    "df1.head()"
   ]
  },
  {
   "cell_type": "code",
   "execution_count": 6,
   "id": "89310a62",
   "metadata": {},
   "outputs": [
    {
     "data": {
      "text/html": [
       "<div>\n",
       "<style scoped>\n",
       "    .dataframe tbody tr th:only-of-type {\n",
       "        vertical-align: middle;\n",
       "    }\n",
       "\n",
       "    .dataframe tbody tr th {\n",
       "        vertical-align: top;\n",
       "    }\n",
       "\n",
       "    .dataframe thead th {\n",
       "        text-align: right;\n",
       "    }\n",
       "</style>\n",
       "<table border=\"1\" class=\"dataframe\">\n",
       "  <thead>\n",
       "    <tr style=\"text-align: right;\">\n",
       "      <th></th>\n",
       "      <th>Student_ID</th>\n",
       "      <th>Subject</th>\n",
       "      <th>Exam_Score</th>\n",
       "      <th>Homework_Completion_%</th>\n",
       "      <th>Teacher_Comments</th>\n",
       "    </tr>\n",
       "  </thead>\n",
       "  <tbody>\n",
       "    <tr>\n",
       "      <th>0</th>\n",
       "      <td>S00396</td>\n",
       "      <td>Arabic</td>\n",
       "      <td>76</td>\n",
       "      <td>90</td>\n",
       "      <td>Possible I large perhaps onto impact pretty ag...</td>\n",
       "    </tr>\n",
       "    <tr>\n",
       "      <th>1</th>\n",
       "      <td>S06544</td>\n",
       "      <td>Math</td>\n",
       "      <td>91</td>\n",
       "      <td>100%</td>\n",
       "      <td>Attention very once light speak yeah against c...</td>\n",
       "    </tr>\n",
       "    <tr>\n",
       "      <th>2</th>\n",
       "      <td>S01277</td>\n",
       "      <td>Science</td>\n",
       "      <td>92</td>\n",
       "      <td>100%</td>\n",
       "      <td>Something piece phone wish rich these where ca...</td>\n",
       "    </tr>\n",
       "    <tr>\n",
       "      <th>3</th>\n",
       "      <td>S00686</td>\n",
       "      <td>English</td>\n",
       "      <td>40</td>\n",
       "      <td>90</td>\n",
       "      <td>Generation same story stand better father perf...</td>\n",
       "    </tr>\n",
       "    <tr>\n",
       "      <th>4</th>\n",
       "      <td>S10984</td>\n",
       "      <td>History</td>\n",
       "      <td>57</td>\n",
       "      <td>90</td>\n",
       "      <td>Minute board finally traditional clear result ...</td>\n",
       "    </tr>\n",
       "  </tbody>\n",
       "</table>\n",
       "</div>"
      ],
      "text/plain": [
       "  Student_ID  Subject  Exam_Score Homework_Completion_%  \\\n",
       "0     S00396   Arabic          76                    90   \n",
       "1     S06544     Math          91                  100%   \n",
       "2     S01277  Science          92                  100%   \n",
       "3     S00686  English          40                    90   \n",
       "4     S10984  History          57                    90   \n",
       "\n",
       "                                    Teacher_Comments  \n",
       "0  Possible I large perhaps onto impact pretty ag...  \n",
       "1  Attention very once light speak yeah against c...  \n",
       "2  Something piece phone wish rich these where ca...  \n",
       "3  Generation same story stand better father perf...  \n",
       "4  Minute board finally traditional clear result ...  "
      ]
     },
     "execution_count": 6,
     "metadata": {},
     "output_type": "execute_result"
    }
   ],
   "source": [
    "df2.head()"
   ]
  },
  {
   "cell_type": "code",
   "execution_count": 7,
   "id": "cee7d51a",
   "metadata": {},
   "outputs": [
    {
     "data": {
      "text/html": [
       "<div>\n",
       "<style scoped>\n",
       "    .dataframe tbody tr th:only-of-type {\n",
       "        vertical-align: middle;\n",
       "    }\n",
       "\n",
       "    .dataframe tbody tr th {\n",
       "        vertical-align: top;\n",
       "    }\n",
       "\n",
       "    .dataframe thead th {\n",
       "        text-align: right;\n",
       "    }\n",
       "</style>\n",
       "<table border=\"1\" class=\"dataframe\">\n",
       "  <thead>\n",
       "    <tr style=\"text-align: right;\">\n",
       "      <th></th>\n",
       "      <th>Student_ID</th>\n",
       "      <th>Full_Name</th>\n",
       "      <th>Date_of_Birth</th>\n",
       "      <th>Grade_Level</th>\n",
       "      <th>Emergency_Contact</th>\n",
       "    </tr>\n",
       "  </thead>\n",
       "  <tbody>\n",
       "    <tr>\n",
       "      <th>0</th>\n",
       "      <td>S00001</td>\n",
       "      <td>Donna Williams</td>\n",
       "      <td>2007-02-10</td>\n",
       "      <td>Grade 3</td>\n",
       "      <td>781-534-4258x9046</td>\n",
       "    </tr>\n",
       "    <tr>\n",
       "      <th>1</th>\n",
       "      <td>S00002</td>\n",
       "      <td>John Stafford</td>\n",
       "      <td>2014-11-26</td>\n",
       "      <td>Grade 5</td>\n",
       "      <td>+1-782-691-6291x99704</td>\n",
       "    </tr>\n",
       "    <tr>\n",
       "      <th>2</th>\n",
       "      <td>S00003</td>\n",
       "      <td>Chad Harper</td>\n",
       "      <td>2017-02-07</td>\n",
       "      <td>Grade 3</td>\n",
       "      <td>308.517.3750</td>\n",
       "    </tr>\n",
       "    <tr>\n",
       "      <th>3</th>\n",
       "      <td>S00004</td>\n",
       "      <td>Anthony Martin</td>\n",
       "      <td>11-10-2014</td>\n",
       "      <td>Grade 5</td>\n",
       "      <td>306-771-1524x116</td>\n",
       "    </tr>\n",
       "    <tr>\n",
       "      <th>4</th>\n",
       "      <td>S00005</td>\n",
       "      <td>Mary Stone</td>\n",
       "      <td>04-01-2016</td>\n",
       "      <td>Grade 3</td>\n",
       "      <td>+1-794-484-8495x7772</td>\n",
       "    </tr>\n",
       "  </tbody>\n",
       "</table>\n",
       "</div>"
      ],
      "text/plain": [
       "  Student_ID       Full_Name Date_of_Birth Grade_Level      Emergency_Contact\n",
       "0     S00001  Donna Williams    2007-02-10     Grade 3      781-534-4258x9046\n",
       "1     S00002   John Stafford    2014-11-26     Grade 5  +1-782-691-6291x99704\n",
       "2     S00003     Chad Harper    2017-02-07     Grade 3           308.517.3750\n",
       "3     S00004  Anthony Martin    11-10-2014     Grade 5       306-771-1524x116\n",
       "4     S00005      Mary Stone    04-01-2016     Grade 3   +1-794-484-8495x7772"
      ]
     },
     "execution_count": 7,
     "metadata": {},
     "output_type": "execute_result"
    }
   ],
   "source": [
    "df3.head()"
   ]
  },
  {
   "cell_type": "code",
   "execution_count": 8,
   "id": "f971f2c7",
   "metadata": {},
   "outputs": [
    {
     "data": {
      "text/html": [
       "<div>\n",
       "<style scoped>\n",
       "    .dataframe tbody tr th:only-of-type {\n",
       "        vertical-align: middle;\n",
       "    }\n",
       "\n",
       "    .dataframe tbody tr th {\n",
       "        vertical-align: top;\n",
       "    }\n",
       "\n",
       "    .dataframe thead th {\n",
       "        text-align: right;\n",
       "    }\n",
       "</style>\n",
       "<table border=\"1\" class=\"dataframe\">\n",
       "  <thead>\n",
       "    <tr style=\"text-align: right;\">\n",
       "      <th></th>\n",
       "      <th>Student_ID</th>\n",
       "      <th>Full_Name</th>\n",
       "      <th>Date_of_Birth</th>\n",
       "      <th>Grade_Level</th>\n",
       "      <th>Emergency_Contact</th>\n",
       "    </tr>\n",
       "  </thead>\n",
       "  <tbody>\n",
       "    <tr>\n",
       "      <th>0</th>\n",
       "      <td>S00001</td>\n",
       "      <td>Donna Williams</td>\n",
       "      <td>2007-02-10</td>\n",
       "      <td>Grade 3</td>\n",
       "      <td>781-534-4258x9046</td>\n",
       "    </tr>\n",
       "    <tr>\n",
       "      <th>1</th>\n",
       "      <td>S00002</td>\n",
       "      <td>John Stafford</td>\n",
       "      <td>2014-11-26</td>\n",
       "      <td>Grade 5</td>\n",
       "      <td>+1-782-691-6291x99704</td>\n",
       "    </tr>\n",
       "    <tr>\n",
       "      <th>2</th>\n",
       "      <td>S00003</td>\n",
       "      <td>Chad Harper</td>\n",
       "      <td>2017-02-07</td>\n",
       "      <td>Grade 3</td>\n",
       "      <td>308.517.3750</td>\n",
       "    </tr>\n",
       "    <tr>\n",
       "      <th>3</th>\n",
       "      <td>S00004</td>\n",
       "      <td>Anthony Martin</td>\n",
       "      <td>11-10-2014</td>\n",
       "      <td>Grade 5</td>\n",
       "      <td>306-771-1524x116</td>\n",
       "    </tr>\n",
       "    <tr>\n",
       "      <th>4</th>\n",
       "      <td>S00005</td>\n",
       "      <td>Mary Stone</td>\n",
       "      <td>04-01-2016</td>\n",
       "      <td>Grade 3</td>\n",
       "      <td>+1-794-484-8495x7772</td>\n",
       "    </tr>\n",
       "  </tbody>\n",
       "</table>\n",
       "</div>"
      ],
      "text/plain": [
       "  Student_ID       Full_Name Date_of_Birth Grade_Level      Emergency_Contact\n",
       "0     S00001  Donna Williams    2007-02-10     Grade 3      781-534-4258x9046\n",
       "1     S00002   John Stafford    2014-11-26     Grade 5  +1-782-691-6291x99704\n",
       "2     S00003     Chad Harper    2017-02-07     Grade 3           308.517.3750\n",
       "3     S00004  Anthony Martin    11-10-2014     Grade 5       306-771-1524x116\n",
       "4     S00005      Mary Stone    04-01-2016     Grade 3   +1-794-484-8495x7772"
      ]
     },
     "execution_count": 8,
     "metadata": {},
     "output_type": "execute_result"
    }
   ],
   "source": [
    "df3.head()"
   ]
  },
  {
   "cell_type": "code",
   "execution_count": 9,
   "id": "65580b11",
   "metadata": {},
   "outputs": [
    {
     "data": {
      "text/html": [
       "<div>\n",
       "<style scoped>\n",
       "    .dataframe tbody tr th:only-of-type {\n",
       "        vertical-align: middle;\n",
       "    }\n",
       "\n",
       "    .dataframe tbody tr th {\n",
       "        vertical-align: top;\n",
       "    }\n",
       "\n",
       "    .dataframe thead th {\n",
       "        text-align: right;\n",
       "    }\n",
       "</style>\n",
       "<table border=\"1\" class=\"dataframe\">\n",
       "  <thead>\n",
       "    <tr style=\"text-align: right;\">\n",
       "      <th></th>\n",
       "      <th>Student_ID</th>\n",
       "      <th>Date</th>\n",
       "      <th>Message_Type</th>\n",
       "      <th>Message_Content</th>\n",
       "    </tr>\n",
       "  </thead>\n",
       "  <tbody>\n",
       "    <tr>\n",
       "      <th>0</th>\n",
       "      <td>S01133</td>\n",
       "      <td>2025-01-20</td>\n",
       "      <td>Automated Reminder</td>\n",
       "      <td>Cut authority ball must cut to maintain think ...</td>\n",
       "    </tr>\n",
       "    <tr>\n",
       "      <th>1</th>\n",
       "      <td>S11179</td>\n",
       "      <td>2024-11-16</td>\n",
       "      <td>Parent to Teacher</td>\n",
       "      <td>Far baby different conference evening gas floo...</td>\n",
       "    </tr>\n",
       "    <tr>\n",
       "      <th>2</th>\n",
       "      <td>S09537</td>\n",
       "      <td>2024-12-03</td>\n",
       "      <td>Parent to Teacher</td>\n",
       "      <td>According this reality reality wish join seaso...</td>\n",
       "    </tr>\n",
       "    <tr>\n",
       "      <th>3</th>\n",
       "      <td>S00478</td>\n",
       "      <td>2025-01-25</td>\n",
       "      <td>Teacher to Parent</td>\n",
       "      <td>Feel article ever success choose serve forget ...</td>\n",
       "    </tr>\n",
       "    <tr>\n",
       "      <th>4</th>\n",
       "      <td>S04736</td>\n",
       "      <td>2024-10-15</td>\n",
       "      <td>Parent to Teacher</td>\n",
       "      <td>Friend wonder contain customer operation half ...</td>\n",
       "    </tr>\n",
       "  </tbody>\n",
       "</table>\n",
       "</div>"
      ],
      "text/plain": [
       "  Student_ID        Date        Message_Type  \\\n",
       "0     S01133  2025-01-20  Automated Reminder   \n",
       "1     S11179  2024-11-16   Parent to Teacher   \n",
       "2     S09537  2024-12-03   Parent to Teacher   \n",
       "3     S00478  2025-01-25   Teacher to Parent   \n",
       "4     S04736  2024-10-15   Parent to Teacher   \n",
       "\n",
       "                                     Message_Content  \n",
       "0  Cut authority ball must cut to maintain think ...  \n",
       "1  Far baby different conference evening gas floo...  \n",
       "2  According this reality reality wish join seaso...  \n",
       "3  Feel article ever success choose serve forget ...  \n",
       "4  Friend wonder contain customer operation half ...  "
      ]
     },
     "execution_count": 9,
     "metadata": {},
     "output_type": "execute_result"
    }
   ],
   "source": [
    "df4.head()"
   ]
  },
  {
   "cell_type": "code",
   "execution_count": 10,
   "id": "3fd8cc85",
   "metadata": {},
   "outputs": [
    {
     "data": {
      "text/html": [
       "<div>\n",
       "<style scoped>\n",
       "    .dataframe tbody tr th:only-of-type {\n",
       "        vertical-align: middle;\n",
       "    }\n",
       "\n",
       "    .dataframe tbody tr th {\n",
       "        vertical-align: top;\n",
       "    }\n",
       "\n",
       "    .dataframe thead th {\n",
       "        text-align: right;\n",
       "    }\n",
       "</style>\n",
       "<table border=\"1\" class=\"dataframe\">\n",
       "  <thead>\n",
       "    <tr style=\"text-align: right;\">\n",
       "      <th></th>\n",
       "      <th>Student_ID</th>\n",
       "      <th>Date</th>\n",
       "      <th>Subject</th>\n",
       "      <th>Attendance_Status</th>\n",
       "    </tr>\n",
       "  </thead>\n",
       "  <tbody>\n",
       "    <tr>\n",
       "      <th>242429</th>\n",
       "      <td>S11314</td>\n",
       "      <td>2024-05-06</td>\n",
       "      <td>Arabic</td>\n",
       "      <td>Absent</td>\n",
       "    </tr>\n",
       "    <tr>\n",
       "      <th>349245</th>\n",
       "      <td>S00483</td>\n",
       "      <td>2024-05-02</td>\n",
       "      <td>Arabic</td>\n",
       "      <td>excused</td>\n",
       "    </tr>\n",
       "    <tr>\n",
       "      <th>361359</th>\n",
       "      <td>S04236</td>\n",
       "      <td>2024-12-22</td>\n",
       "      <td>Arabic</td>\n",
       "      <td>Present</td>\n",
       "    </tr>\n",
       "    <tr>\n",
       "      <th>296603</th>\n",
       "      <td>S02821</td>\n",
       "      <td>2024-11-18</td>\n",
       "      <td>Arabic</td>\n",
       "      <td>late</td>\n",
       "    </tr>\n",
       "    <tr>\n",
       "      <th>305439</th>\n",
       "      <td>S00263</td>\n",
       "      <td>2024-04-28</td>\n",
       "      <td>History</td>\n",
       "      <td>late</td>\n",
       "    </tr>\n",
       "    <tr>\n",
       "      <th>57669</th>\n",
       "      <td>S00259</td>\n",
       "      <td>2024-05-18</td>\n",
       "      <td>History</td>\n",
       "      <td>PRESENT</td>\n",
       "    </tr>\n",
       "    <tr>\n",
       "      <th>238568</th>\n",
       "      <td>S02237</td>\n",
       "      <td>2024-10-05</td>\n",
       "      <td>Science</td>\n",
       "      <td>absnt</td>\n",
       "    </tr>\n",
       "    <tr>\n",
       "      <th>13570</th>\n",
       "      <td>S03965</td>\n",
       "      <td>2024-07-25</td>\n",
       "      <td>English</td>\n",
       "      <td>late</td>\n",
       "    </tr>\n",
       "    <tr>\n",
       "      <th>211063</th>\n",
       "      <td>S06290</td>\n",
       "      <td>2024-10-09</td>\n",
       "      <td>Arabic</td>\n",
       "      <td>left early</td>\n",
       "    </tr>\n",
       "    <tr>\n",
       "      <th>360028</th>\n",
       "      <td>S03567</td>\n",
       "      <td>2024-08-03</td>\n",
       "      <td>History</td>\n",
       "      <td>Absent</td>\n",
       "    </tr>\n",
       "  </tbody>\n",
       "</table>\n",
       "</div>"
      ],
      "text/plain": [
       "       Student_ID        Date  Subject Attendance_Status\n",
       "242429     S11314  2024-05-06   Arabic            Absent\n",
       "349245     S00483  2024-05-02   Arabic           excused\n",
       "361359     S04236  2024-12-22   Arabic           Present\n",
       "296603     S02821  2024-11-18   Arabic              late\n",
       "305439     S00263  2024-04-28  History              late\n",
       "57669      S00259  2024-05-18  History          PRESENT \n",
       "238568     S02237  2024-10-05  Science             absnt\n",
       "13570      S03965  2024-07-25  English              late\n",
       "211063     S06290  2024-10-09   Arabic        left early\n",
       "360028     S03567  2024-08-03  History            Absent"
      ]
     },
     "execution_count": 10,
     "metadata": {},
     "output_type": "execute_result"
    }
   ],
   "source": [
    "df.sample(10)"
   ]
  },
  {
   "cell_type": "code",
   "execution_count": 11,
   "id": "593943d3",
   "metadata": {},
   "outputs": [
    {
     "name": "stdout",
     "output_type": "stream",
     "text": [
      "<class 'pandas.core.frame.DataFrame'>\n",
      "RangeIndex: 364680 entries, 0 to 364679\n",
      "Data columns (total 4 columns):\n",
      " #   Column             Non-Null Count   Dtype \n",
      "---  ------             --------------   ----- \n",
      " 0   Student_ID         364680 non-null  object\n",
      " 1   Date               364680 non-null  object\n",
      " 2   Subject            364680 non-null  object\n",
      " 3   Attendance_Status  364680 non-null  object\n",
      "dtypes: object(4)\n",
      "memory usage: 11.1+ MB\n",
      "<class 'pandas.core.frame.DataFrame'>\n",
      "RangeIndex: 60780 entries, 0 to 60779\n",
      "Data columns (total 7 columns):\n",
      " #   Column              Non-Null Count  Dtype \n",
      "---  ------              --------------  ----- \n",
      " 0   Student_ID          60780 non-null  object\n",
      " 1   Subject             60780 non-null  object\n",
      " 2   Assignment_Name     60780 non-null  object\n",
      " 3   Due_Date            60780 non-null  object\n",
      " 4   Status              60780 non-null  object\n",
      " 5   Grade_Feedback      60780 non-null  object\n",
      " 6   Guardian_Signature  60780 non-null  object\n",
      "dtypes: object(7)\n",
      "memory usage: 3.2+ MB\n",
      "<class 'pandas.core.frame.DataFrame'>\n",
      "RangeIndex: 36468 entries, 0 to 36467\n",
      "Data columns (total 5 columns):\n",
      " #   Column                 Non-Null Count  Dtype \n",
      "---  ------                 --------------  ----- \n",
      " 0   Student_ID             36468 non-null  object\n",
      " 1   Subject                36468 non-null  object\n",
      " 2   Exam_Score             36468 non-null  int64 \n",
      " 3   Homework_Completion_%  36468 non-null  object\n",
      " 4   Teacher_Comments       36468 non-null  object\n",
      "dtypes: int64(1), object(4)\n",
      "memory usage: 1.4+ MB\n",
      "<class 'pandas.core.frame.DataFrame'>\n",
      "RangeIndex: 12156 entries, 0 to 12155\n",
      "Data columns (total 5 columns):\n",
      " #   Column             Non-Null Count  Dtype \n",
      "---  ------             --------------  ----- \n",
      " 0   Student_ID         12156 non-null  object\n",
      " 1   Full_Name          12156 non-null  object\n",
      " 2   Date_of_Birth      12156 non-null  object\n",
      " 3   Grade_Level        12156 non-null  object\n",
      " 4   Emergency_Contact  11538 non-null  object\n",
      "dtypes: object(5)\n",
      "memory usage: 475.0+ KB\n",
      "<class 'pandas.core.frame.DataFrame'>\n",
      "RangeIndex: 24312 entries, 0 to 24311\n",
      "Data columns (total 4 columns):\n",
      " #   Column           Non-Null Count  Dtype \n",
      "---  ------           --------------  ----- \n",
      " 0   Student_ID       24312 non-null  object\n",
      " 1   Date             24312 non-null  object\n",
      " 2   Message_Type     24312 non-null  object\n",
      " 3   Message_Content  24312 non-null  object\n",
      "dtypes: object(4)\n",
      "memory usage: 759.9+ KB\n"
     ]
    }
   ],
   "source": [
    "df.info()\n",
    "df1.info()\n",
    "df2.info()\n",
    "df3.info()\n",
    "df4.info()\n"
   ]
  },
  {
   "cell_type": "code",
   "execution_count": 12,
   "id": "1405677f",
   "metadata": {},
   "outputs": [
    {
     "data": {
      "text/plain": [
       "['Student_ID', 'Date', 'Subject', 'Attendance_Status']"
      ]
     },
     "execution_count": 12,
     "metadata": {},
     "output_type": "execute_result"
    }
   ],
   "source": [
    "df.columns.tolist()"
   ]
  },
  {
   "cell_type": "code",
   "execution_count": 13,
   "id": "1b3d75fa",
   "metadata": {},
   "outputs": [
    {
     "data": {
      "text/plain": [
       "['Student_ID',\n",
       " 'Subject',\n",
       " 'Assignment_Name',\n",
       " 'Due_Date',\n",
       " 'Status',\n",
       " 'Grade_Feedback',\n",
       " 'Guardian_Signature']"
      ]
     },
     "execution_count": 13,
     "metadata": {},
     "output_type": "execute_result"
    }
   ],
   "source": [
    "df1.columns.tolist()"
   ]
  },
  {
   "cell_type": "code",
   "execution_count": 14,
   "id": "deca7f10",
   "metadata": {},
   "outputs": [
    {
     "data": {
      "text/plain": [
       "['Student_ID',\n",
       " 'Subject',\n",
       " 'Exam_Score',\n",
       " 'Homework_Completion_%',\n",
       " 'Teacher_Comments']"
      ]
     },
     "execution_count": 14,
     "metadata": {},
     "output_type": "execute_result"
    }
   ],
   "source": [
    "df2.columns.tolist()"
   ]
  },
  {
   "cell_type": "code",
   "execution_count": 15,
   "id": "accfbbe1",
   "metadata": {},
   "outputs": [
    {
     "data": {
      "text/plain": [
       "['Student_ID',\n",
       " 'Full_Name',\n",
       " 'Date_of_Birth',\n",
       " 'Grade_Level',\n",
       " 'Emergency_Contact']"
      ]
     },
     "execution_count": 15,
     "metadata": {},
     "output_type": "execute_result"
    }
   ],
   "source": [
    "df3.columns.tolist()"
   ]
  },
  {
   "cell_type": "code",
   "execution_count": 16,
   "id": "d58d7851",
   "metadata": {},
   "outputs": [],
   "source": [
    "#as we see above i tried to see column i will analyse and visualise for data expoloration, \n",
    "#this is for student analyse with the kinds of columns and i see\n",
    "#that columns about to see the student attendance and doindg their homeworks and performance for different lessons."
   ]
  },
  {
   "cell_type": "code",
   "execution_count": 17,
   "id": "72c371c4",
   "metadata": {},
   "outputs": [
    {
     "data": {
      "text/plain": [
       "['Student_ID', 'Date', 'Message_Type', 'Message_Content']"
      ]
     },
     "execution_count": 17,
     "metadata": {},
     "output_type": "execute_result"
    }
   ],
   "source": [
    "df4.columns.tolist()"
   ]
  },
  {
   "cell_type": "code",
   "execution_count": 18,
   "id": "4a8b27ea",
   "metadata": {},
   "outputs": [
    {
     "data": {
      "text/plain": [
       "(364680, 4)"
      ]
     },
     "execution_count": 18,
     "metadata": {},
     "output_type": "execute_result"
    }
   ],
   "source": [
    "df.shape"
   ]
  },
  {
   "cell_type": "markdown",
   "id": "2cfc2e88",
   "metadata": {},
   "source": [
    "### 2.In this area i try to find the variables for if there is duplicate or  missing values or if we need to drop the column for any reaseons, i will look and decide of it "
   ]
  },
  {
   "cell_type": "code",
   "execution_count": 19,
   "id": "8216dd0f",
   "metadata": {},
   "outputs": [
    {
     "data": {
      "text/plain": [
       "(364680, 4)"
      ]
     },
     "execution_count": 19,
     "metadata": {},
     "output_type": "execute_result"
    }
   ],
   "source": [
    "df.shape"
   ]
  },
  {
   "cell_type": "code",
   "execution_count": 20,
   "id": "4a768051",
   "metadata": {},
   "outputs": [
    {
     "data": {
      "text/plain": [
       "Student_ID           12156\n",
       "Date                   366\n",
       "Subject                  6\n",
       "Attendance_Status        8\n",
       "dtype: int64"
      ]
     },
     "execution_count": 20,
     "metadata": {},
     "output_type": "execute_result"
    }
   ],
   "source": [
    "df.nunique()"
   ]
  },
  {
   "cell_type": "code",
   "execution_count": 21,
   "id": "cd68eed9",
   "metadata": {},
   "outputs": [
    {
     "name": "stdout",
     "output_type": "stream",
     "text": [
      "<class 'pandas.core.frame.DataFrame'>\n",
      "RangeIndex: 364680 entries, 0 to 364679\n",
      "Data columns (total 4 columns):\n",
      " #   Column             Non-Null Count   Dtype \n",
      "---  ------             --------------   ----- \n",
      " 0   Student_ID         364680 non-null  object\n",
      " 1   Date               364680 non-null  object\n",
      " 2   Subject            364680 non-null  object\n",
      " 3   Attendance_Status  364680 non-null  object\n",
      "dtypes: object(4)\n",
      "memory usage: 11.1+ MB\n"
     ]
    }
   ],
   "source": [
    "df.info()"
   ]
  },
  {
   "cell_type": "code",
   "execution_count": 22,
   "id": "bc686905",
   "metadata": {},
   "outputs": [
    {
     "data": {
      "text/html": [
       "<div>\n",
       "<style scoped>\n",
       "    .dataframe tbody tr th:only-of-type {\n",
       "        vertical-align: middle;\n",
       "    }\n",
       "\n",
       "    .dataframe tbody tr th {\n",
       "        vertical-align: top;\n",
       "    }\n",
       "\n",
       "    .dataframe thead th {\n",
       "        text-align: right;\n",
       "    }\n",
       "</style>\n",
       "<table border=\"1\" class=\"dataframe\">\n",
       "  <thead>\n",
       "    <tr style=\"text-align: right;\">\n",
       "      <th></th>\n",
       "      <th>count</th>\n",
       "      <th>unique</th>\n",
       "      <th>top</th>\n",
       "      <th>freq</th>\n",
       "    </tr>\n",
       "  </thead>\n",
       "  <tbody>\n",
       "    <tr>\n",
       "      <th>Student_ID</th>\n",
       "      <td>364680</td>\n",
       "      <td>12156</td>\n",
       "      <td>S04865</td>\n",
       "      <td>58</td>\n",
       "    </tr>\n",
       "    <tr>\n",
       "      <th>Date</th>\n",
       "      <td>364680</td>\n",
       "      <td>366</td>\n",
       "      <td>2024-12-31</td>\n",
       "      <td>1075</td>\n",
       "    </tr>\n",
       "    <tr>\n",
       "      <th>Subject</th>\n",
       "      <td>364680</td>\n",
       "      <td>6</td>\n",
       "      <td>Math</td>\n",
       "      <td>61241</td>\n",
       "    </tr>\n",
       "    <tr>\n",
       "      <th>Attendance_Status</th>\n",
       "      <td>364680</td>\n",
       "      <td>8</td>\n",
       "      <td>PRESENT</td>\n",
       "      <td>45982</td>\n",
       "    </tr>\n",
       "  </tbody>\n",
       "</table>\n",
       "</div>"
      ],
      "text/plain": [
       "                    count unique         top   freq\n",
       "Student_ID         364680  12156      S04865     58\n",
       "Date               364680    366  2024-12-31   1075\n",
       "Subject            364680      6        Math  61241\n",
       "Attendance_Status  364680      8    PRESENT   45982"
      ]
     },
     "execution_count": 22,
     "metadata": {},
     "output_type": "execute_result"
    }
   ],
   "source": [
    "df.describe().T"
   ]
  },
  {
   "cell_type": "markdown",
   "id": "a10cd8db",
   "metadata": {},
   "source": [
    "# For Data Cleaning looking what we can do for this!!"
   ]
  },
  {
   "cell_type": "code",
   "execution_count": 23,
   "id": "b52b247b",
   "metadata": {},
   "outputs": [
    {
     "data": {
      "text/plain": [
       "False    364390\n",
       "True        290\n",
       "dtype: int64"
      ]
     },
     "execution_count": 23,
     "metadata": {},
     "output_type": "execute_result"
    }
   ],
   "source": [
    "df.duplicated().value_counts() #there are 290 duplicated values. it is possible for this data for giving any duplicates values."
   ]
  },
  {
   "cell_type": "code",
   "execution_count": 24,
   "id": "80b08365",
   "metadata": {},
   "outputs": [
    {
     "data": {
      "text/plain": [
       "Student_ID           0\n",
       "Date                 0\n",
       "Subject              0\n",
       "Attendance_Status    0\n",
       "dtype: int64"
      ]
     },
     "execution_count": 24,
     "metadata": {},
     "output_type": "execute_result"
    }
   ],
   "source": [
    "df.isnull().sum() #there is no null values in this for attendence data ."
   ]
  },
  {
   "cell_type": "code",
   "execution_count": 25,
   "id": "1d9c3b4b",
   "metadata": {},
   "outputs": [
    {
     "data": {
      "text/plain": [
       "Student_ID            0\n",
       "Subject               0\n",
       "Assignment_Name       0\n",
       "Due_Date              0\n",
       "Status                0\n",
       "Grade_Feedback        0\n",
       "Guardian_Signature    0\n",
       "dtype: int64"
      ]
     },
     "execution_count": 25,
     "metadata": {},
     "output_type": "execute_result"
    }
   ],
   "source": [
    "df1.isnull().sum()"
   ]
  },
  {
   "cell_type": "code",
   "execution_count": 26,
   "id": "bb3f1b90",
   "metadata": {},
   "outputs": [
    {
     "data": {
      "text/plain": [
       "Student_ID               0\n",
       "Subject                  0\n",
       "Exam_Score               0\n",
       "Homework_Completion_%    0\n",
       "Teacher_Comments         0\n",
       "dtype: int64"
      ]
     },
     "execution_count": 26,
     "metadata": {},
     "output_type": "execute_result"
    }
   ],
   "source": [
    "df2.isnull().sum()"
   ]
  },
  {
   "cell_type": "code",
   "execution_count": 27,
   "id": "e08cbded",
   "metadata": {},
   "outputs": [
    {
     "data": {
      "text/plain": [
       "Student_ID             0\n",
       "Full_Name              0\n",
       "Date_of_Birth          0\n",
       "Grade_Level            0\n",
       "Emergency_Contact    618\n",
       "dtype: int64"
      ]
     },
     "execution_count": 27,
     "metadata": {},
     "output_type": "execute_result"
    }
   ],
   "source": [
    "df3.isnull().sum() #Emergency Contact has missing values and then we can drop them."
   ]
  },
  {
   "cell_type": "code",
   "execution_count": 89,
   "id": "6b2927e6",
   "metadata": {},
   "outputs": [],
   "source": [
    "df3.dropna(inplace = True)"
   ]
  },
  {
   "cell_type": "code",
   "execution_count": 90,
   "id": "911fe5cb",
   "metadata": {},
   "outputs": [
    {
     "data": {
      "text/plain": [
       "Student_ID           0\n",
       "Full_Name            0\n",
       "Date_of_Birth        0\n",
       "Grade_Level          0\n",
       "Emergency_Contact    0\n",
       "dtype: int64"
      ]
     },
     "execution_count": 90,
     "metadata": {},
     "output_type": "execute_result"
    }
   ],
   "source": [
    "df3.isnull().sum()"
   ]
  },
  {
   "cell_type": "code",
   "execution_count": 28,
   "id": "8f77b45a",
   "metadata": {},
   "outputs": [
    {
     "data": {
      "text/plain": [
       "Student_ID         0\n",
       "Date               0\n",
       "Message_Type       0\n",
       "Message_Content    0\n",
       "dtype: int64"
      ]
     },
     "execution_count": 28,
     "metadata": {},
     "output_type": "execute_result"
    }
   ],
   "source": [
    "df4.isnull().sum()"
   ]
  },
  {
   "cell_type": "code",
   "execution_count": 29,
   "id": "2249c796",
   "metadata": {},
   "outputs": [],
   "source": [
    "#we can see that there is no missing values at each datasets"
   ]
  },
  {
   "cell_type": "code",
   "execution_count": 30,
   "id": "df962cee",
   "metadata": {},
   "outputs": [
    {
     "data": {
      "image/png": "[encoded data removed]",
      "text/plain": [
       "<Figure size 432x288 with 1 Axes>"
      ]
     },
     "metadata": {
      "needs_background": "light"
     },
     "output_type": "display_data"
    }
   ],
   "source": [
    "plt.figure()\n",
    "sns.countplot(data=df, x='Attendance_Status', palette='viridis')\n",
    "plt.title('Attendance Status Distribution')\n",
    "plt.xlabel('Attendance Status')\n",
    "plt.ylabel('Count')\n",
    "plt.show()"
   ]
  },
  {
   "cell_type": "code",
   "execution_count": 31,
   "id": "d4b29ff1",
   "metadata": {},
   "outputs": [
    {
     "data": {
      "image/png": "[encoded data removed]",
      "text/plain": [
       "<Figure size 432x288 with 1 Axes>"
      ]
     },
     "metadata": {
      "needs_background": "light"
     },
     "output_type": "display_data"
    }
   ],
   "source": [
    "plt.figure()\n",
    "sns.histplot(data=df2, x='Homework_Completion_%', kde=True, color='salmon')\n",
    "plt.title('Distribution of Homework Completion Percentage')\n",
    "plt.xlabel('Homework Completion (%)')\n",
    "plt.ylabel('Frequency')\n",
    "plt.show()\n",
    "#homework completeion shows us some of them doing hig percentage \n",
    "# some of the by doing homework shows low percentage"
   ]
  },
  {
   "cell_type": "code",
   "execution_count": 32,
   "id": "6da699b1",
   "metadata": {},
   "outputs": [
    {
     "data": {
      "image/png": "[encoded data removed]",
      "text/plain": [
       "<Figure size 432x288 with 1 Axes>"
      ]
     },
     "metadata": {
      "needs_background": "light"
     },
     "output_type": "display_data"
    }
   ],
   "source": [
    "plt.figure()\n",
    "sns.histplot(data=df2, x='Exam_Score', kde=True, color='skyblue')\n",
    "plt.title('Distribution of Exam Scores')\n",
    "plt.xlabel('Exam Score')\n",
    "plt.ylabel('Frequency')\n",
    "plt.show()"
   ]
  },
  {
   "cell_type": "code",
   "execution_count": 33,
   "id": "186f039f",
   "metadata": {},
   "outputs": [],
   "source": [
    "#Exam results are mostly close, it seems like student learnt the same and success of the students nearly same,\n",
    "#but some students stand out and \n",
    "#have the top scores by values, 5 of them have the highiest scores"
   ]
  },
  {
   "cell_type": "code",
   "execution_count": 34,
   "id": "1d42c41b",
   "metadata": {},
   "outputs": [
    {
     "name": "stdout",
     "output_type": "stream",
     "text": [
      "Not enough numeric columns for a correlation heatmap in the performance dataset.\n"
     ]
    }
   ],
   "source": [
    "# If there are at least 4 numeric columns in the performance dataset, create a correlation heatmap\n",
    "numeric_df = df.select_dtypes(include=[np.number])\n",
    "if numeric_df.shape[1] >= 4:\n",
    "    plt.figure()\n",
    "    corr = numeric_df.corr()\n",
    "    sns.heatmap(corr, annot=True, cmap='coolwarm', fmt='.2f')\n",
    "    plt.title('Correlation Heatmap - Performance Dataset')\n",
    "    plt.show()\n",
    "else:\n",
    "    print('Not enough numeric columns for a correlation heatmap in the performance dataset.')\n",
    "\n",
    "# Pair plot for numeric columns in performance dataset\n",
    "if numeric_df.shape[1] >= 10:\n",
    "    sns.pairplot(numeric_df)\n",
    "    plt.show()"
   ]
  },
  {
   "cell_type": "code",
   "execution_count": 35,
   "id": "3f5837ed",
   "metadata": {},
   "outputs": [
    {
     "data": {
      "text/plain": [
       "Student_ID  Date        Subject    Attendance_Status\n",
       "S03282      2024-04-23  History    Late                 2\n",
       "S05301      2024-07-26  Geography  absnt                2\n",
       "S12146      2024-10-18  Science    absnt                2\n",
       "S02255      2025-03-07  Science    left early           2\n",
       "S01340      2024-06-28  Geography  Late                 2\n",
       "                                                       ..\n",
       "S04061      2024-11-14  Geography  excused              1\n",
       "            2024-10-29  Math        late                1\n",
       "            2024-10-27  English    left early           1\n",
       "            2024-10-26  Arabic     excused              1\n",
       "S12156      2025-03-03  Geography  left early           1\n",
       "Length: 364390, dtype: int64"
      ]
     },
     "execution_count": 35,
     "metadata": {},
     "output_type": "execute_result"
    }
   ],
   "source": [
    "df.value_counts()"
   ]
  },
  {
   "cell_type": "code",
   "execution_count": 36,
   "id": "09c91140",
   "metadata": {},
   "outputs": [
    {
     "data": {
      "text/plain": [
       "Student_ID  Subject  Assignment_Name                 Due_Date    Status  Grade_Feedback  Guardian_Signature\n",
       "S00001      Arabic   Heavy consider process report.  10/02/2024  ✔       B-              Yes                   1\n",
       "S08137      Arabic   Office single movement.         03/07/2025  ✔       B-              No                    1\n",
       "S08135      Arabic   Less yet present.               2024-10-16   Done   D               Yes                   1\n",
       "                     Need.                           2025-02-17   Done   A               Yes                   1\n",
       "                     Offer believe.                  09/12/2024  ❌       B               No                    1\n",
       "                                                                                                              ..\n",
       "S04032      Science  Store.                          2024-12-07  ✔       C-              No                    1\n",
       "S04033      Arabic   Rise.                           2024-12-29  ✅       A+              Yes                   1\n",
       "                     Together agency.                2025-02-19  ❌       C                                     1\n",
       "            History  During recent here.             01/01/2025   Done   C               Yes                   1\n",
       "S12156      Math     Own blue other.                 01/10/2025  ✅       A               Yes                   1\n",
       "Length: 60780, dtype: int64"
      ]
     },
     "execution_count": 36,
     "metadata": {},
     "output_type": "execute_result"
    }
   ],
   "source": [
    "df1.value_counts() #this is for homework informations"
   ]
  },
  {
   "cell_type": "code",
   "execution_count": 37,
   "id": "ef056062",
   "metadata": {},
   "outputs": [
    {
     "data": {
      "text/plain": [
       "Student_ID  Subject    Exam_Score  Homework_Completion_%  Teacher_Comments                                                                            \n",
       "S00002      Arabic     69          -5                     Season end color son page their begin return trial if model focus.                              1\n",
       "S08115      English    97          80%                    Throughout they later opportunity set evening ask enjoy after.                                  1\n",
       "S08114      Geography  48          80%                    Represent right past like compare century traditional.                                          1\n",
       "                       57          -5                     Hand control small since after easy.                                                            1\n",
       "                       101         100%                   Third another religious act information sense up good wrong play major.                         1\n",
       "                                                                                                                                                         ..\n",
       "S04091      History    72          100%                   Those you apply child church certain from media game.                                           1\n",
       "            Geography  73          -5                     Stop half successful technology that trouble feeling day lose turn exactly half base camera.    1\n",
       "S04090      English    85          90                     Republican responsibility herself also sing positive cut protect actually.                      1\n",
       "            Arabic     94          -5                     Show give TV raise begin body poor help though various process source enjoy.                    1\n",
       "S12156      Science    56          100%                   House program already who wonder table sure mind enough.                                        1\n",
       "Length: 36468, dtype: int64"
      ]
     },
     "execution_count": 37,
     "metadata": {},
     "output_type": "execute_result"
    }
   ],
   "source": [
    "df2.value_counts() #this is for the performance of the students"
   ]
  },
  {
   "cell_type": "code",
   "execution_count": 38,
   "id": "14dda68e",
   "metadata": {},
   "outputs": [
    {
     "data": {
      "text/plain": [
       "Student_ID  Full_Name         Date_of_Birth  Grade_Level  Emergency_Contact     \n",
       "S00001      Donna Williams    2007-02-10     Grade 3      781-534-4258x9046         1\n",
       "S08077      Derek Roth        2012-03-05     Grade 1      001-825-902-4379x79137    1\n",
       "S08079      Stephen Johnson   2009-02-26     Grade 1      6207463170                1\n",
       "S08080      Sarah Patrick     2010-08-22     Grade 3      (714)296-3704             1\n",
       "S08081      Laurie Alvarado   2012-04-28     Grade 2      (868)220-0320x2960        1\n",
       "                                                                                   ..\n",
       "S04030      Ronald Alexander  2007-04-14     Grade 1      +1-877-514-5145x2790      1\n",
       "S04032      Scott Flores      2014-02-24     Grade 3      +1-833-544-3797x610       1\n",
       "S04033      Yvonne Ramirez    2012-10-18     Grade 1      (760)710-4486             1\n",
       "S04034      Michael Miller    2011-01-15     Grade 3      001-896-766-3326x63184    1\n",
       "S12156      Shannon Brown     2018-06-23     Grade 5      3793041001                1\n",
       "Length: 11538, dtype: int64"
      ]
     },
     "execution_count": 38,
     "metadata": {},
     "output_type": "execute_result"
    }
   ],
   "source": [
    "df3.value_counts() #this is for the students data with the performance of grade level includings this is the point of \n",
    "#our fascinate and makes sense of the analayse. the other columns are not necessary for investigate."
   ]
  },
  {
   "cell_type": "code",
   "execution_count": 39,
   "id": "68231c07",
   "metadata": {
    "scrolled": true
   },
   "outputs": [
    {
     "data": {
      "text/plain": [
       "Student_ID  Date        Message_Type        Message_Content                                                                                                                             \n",
       "S00001      2024-10-24  Automated Reminder  Institution most apply conference east trade item unit news trouble couple hospital.                                                            1\n",
       "S08119      2025-01-31  Parent to Teacher   Right share left direction many who worker order yet water hope recently half only.                                                             1\n",
       "S08123      2024-09-26  Parent to Teacher   Use sound next collection grow left lead move ok fire ten second.                                                                               1\n",
       "                                            Music ago ability language of myself hard either hope million tax yes administration artist reflect never bed.                                  1\n",
       "S08122      2025-01-29  Parent to Teacher   Two story that dream anything pass commercial month door necessary enjoy.                                                                       1\n",
       "                                                                                                                                                                                           ..\n",
       "S04059      2025-02-24  Teacher to Parent   Begin what do poor speech this possible plan firm even these movie where lay his international population.                                      1\n",
       "            2025-02-13  Parent to Teacher   Pay serve new step oil station bed pay which cover.                                                                                             1\n",
       "            2025-02-05  Automated Reminder  Easy off price discussion American perhaps wear understand offer carry explain method guy concern often table building believe point school.    1\n",
       "S04058      2024-11-14  Parent to Teacher   Resource under television rock marriage full determine like gas bag never.                                                                      1\n",
       "S12156      2024-11-30  Teacher to Parent   Conference first seek campaign business push professor reduce hit tough show effort stuff toward occur dog I dark might hope.                   1\n",
       "Length: 24312, dtype: int64"
      ]
     },
     "execution_count": 39,
     "metadata": {},
     "output_type": "execute_result"
    }
   ],
   "source": [
    "df4.value_counts() #this is the teacher parent communication and we are not follow maybe massage type we can cope with."
   ]
  },
  {
   "cell_type": "code",
   "execution_count": 40,
   "id": "2e94ec55",
   "metadata": {},
   "outputs": [
    {
     "data": {
      "text/plain": [
       "Index(['Student_ID', 'Date', 'Subject', 'Attendance_Status'], dtype='object')"
      ]
     },
     "execution_count": 40,
     "metadata": {},
     "output_type": "execute_result"
    }
   ],
   "source": [
    "object_col=df.select_dtypes(include=['object']).columns\n",
    "object_col"
   ]
  },
  {
   "cell_type": "code",
   "execution_count": 41,
   "id": "3a79277b",
   "metadata": {},
   "outputs": [
    {
     "name": "stdout",
     "output_type": "stream",
     "text": [
      "Student_ID\n",
      "----------------\n",
      "S04865    58\n",
      "S06348    55\n",
      "S06432    54\n",
      "S09449    52\n",
      "S06747    51\n",
      "          ..\n",
      "S06762    13\n",
      "S03481    13\n",
      "S02659    12\n",
      "S09627    12\n",
      "S00311    10\n",
      "Name: Student_ID, Length: 12156, dtype: int64\n",
      "----------------------------------------\n",
      "Date\n",
      "----------------\n",
      "2024-12-31    1075\n",
      "2024-05-05    1073\n",
      "2024-09-06    1070\n",
      "2024-09-22    1068\n",
      "2024-08-06    1068\n",
      "              ... \n",
      "2024-12-25     922\n",
      "2024-05-09     921\n",
      "2024-03-31     919\n",
      "2024-12-07     917\n",
      "2024-04-21     905\n",
      "Name: Date, Length: 366, dtype: int64\n",
      "----------------------------------------\n",
      "Subject\n",
      "----------------\n",
      "Math         61241\n",
      "Science      60881\n",
      "Arabic       60749\n",
      "English      60684\n",
      "Geography    60640\n",
      "History      60485\n",
      "Name: Subject, dtype: int64\n",
      "----------------------------------------\n",
      "Attendance_Status\n",
      "----------------\n",
      "PRESENT       45982\n",
      "Absent        45751\n",
      "Present       45632\n",
      "Late          45509\n",
      " late         45508\n",
      "absnt         45478\n",
      "left early    45435\n",
      "excused       45385\n",
      "Name: Attendance_Status, dtype: int64\n",
      "----------------------------------------\n"
     ]
    }
   ],
   "source": [
    "for col in object_col:\n",
    "    print(col)\n",
    "    print(\"--\"*8)\n",
    "    print(df[col].value_counts(dropna=False))\n",
    "    print(\"--\"*20)"
   ]
  },
  {
   "cell_type": "code",
   "execution_count": 42,
   "id": "a92de77c",
   "metadata": {},
   "outputs": [
    {
     "data": {
      "text/html": [
       "<div>\n",
       "<style scoped>\n",
       "    .dataframe tbody tr th:only-of-type {\n",
       "        vertical-align: middle;\n",
       "    }\n",
       "\n",
       "    .dataframe tbody tr th {\n",
       "        vertical-align: top;\n",
       "    }\n",
       "\n",
       "    .dataframe thead th {\n",
       "        text-align: right;\n",
       "    }\n",
       "</style>\n",
       "<table border=\"1\" class=\"dataframe\">\n",
       "  <thead>\n",
       "    <tr style=\"text-align: right;\">\n",
       "      <th></th>\n",
       "      <th>Student_ID</th>\n",
       "      <th>Date</th>\n",
       "      <th>Subject</th>\n",
       "      <th>Attendance_Status</th>\n",
       "    </tr>\n",
       "  </thead>\n",
       "  <tbody>\n",
       "    <tr>\n",
       "      <th>0</th>\n",
       "      <td>S06592</td>\n",
       "      <td>2024-09-20</td>\n",
       "      <td>Arabic</td>\n",
       "      <td>Present</td>\n",
       "    </tr>\n",
       "    <tr>\n",
       "      <th>1</th>\n",
       "      <td>S01777</td>\n",
       "      <td>2025-01-22</td>\n",
       "      <td>Math</td>\n",
       "      <td>Present</td>\n",
       "    </tr>\n",
       "    <tr>\n",
       "      <th>2</th>\n",
       "      <td>S07362</td>\n",
       "      <td>2024-12-03</td>\n",
       "      <td>Geography</td>\n",
       "      <td>PRESENT</td>\n",
       "    </tr>\n",
       "    <tr>\n",
       "      <th>3</th>\n",
       "      <td>S12119</td>\n",
       "      <td>2024-03-16</td>\n",
       "      <td>Geography</td>\n",
       "      <td>excused</td>\n",
       "    </tr>\n",
       "    <tr>\n",
       "      <th>4</th>\n",
       "      <td>S02002</td>\n",
       "      <td>2024-05-24</td>\n",
       "      <td>Math</td>\n",
       "      <td>PRESENT</td>\n",
       "    </tr>\n",
       "    <tr>\n",
       "      <th>...</th>\n",
       "      <td>...</td>\n",
       "      <td>...</td>\n",
       "      <td>...</td>\n",
       "      <td>...</td>\n",
       "    </tr>\n",
       "    <tr>\n",
       "      <th>364675</th>\n",
       "      <td>S08595</td>\n",
       "      <td>2025-02-14</td>\n",
       "      <td>Math</td>\n",
       "      <td>Present</td>\n",
       "    </tr>\n",
       "    <tr>\n",
       "      <th>364676</th>\n",
       "      <td>S11222</td>\n",
       "      <td>2025-03-06</td>\n",
       "      <td>Science</td>\n",
       "      <td>left early</td>\n",
       "    </tr>\n",
       "    <tr>\n",
       "      <th>364677</th>\n",
       "      <td>S11344</td>\n",
       "      <td>2024-04-18</td>\n",
       "      <td>History</td>\n",
       "      <td>Present</td>\n",
       "    </tr>\n",
       "    <tr>\n",
       "      <th>364678</th>\n",
       "      <td>S04381</td>\n",
       "      <td>2024-10-04</td>\n",
       "      <td>Science</td>\n",
       "      <td>PRESENT</td>\n",
       "    </tr>\n",
       "    <tr>\n",
       "      <th>364679</th>\n",
       "      <td>S12134</td>\n",
       "      <td>2024-09-19</td>\n",
       "      <td>English</td>\n",
       "      <td>excused</td>\n",
       "    </tr>\n",
       "  </tbody>\n",
       "</table>\n",
       "<p>364680 rows × 4 columns</p>\n",
       "</div>"
      ],
      "text/plain": [
       "       Student_ID        Date    Subject Attendance_Status\n",
       "0          S06592  2024-09-20     Arabic           Present\n",
       "1          S01777  2025-01-22       Math           Present\n",
       "2          S07362  2024-12-03  Geography          PRESENT \n",
       "3          S12119  2024-03-16  Geography           excused\n",
       "4          S02002  2024-05-24       Math          PRESENT \n",
       "...           ...         ...        ...               ...\n",
       "364675     S08595  2025-02-14       Math           Present\n",
       "364676     S11222  2025-03-06    Science        left early\n",
       "364677     S11344  2024-04-18    History           Present\n",
       "364678     S04381  2024-10-04    Science          PRESENT \n",
       "364679     S12134  2024-09-19    English           excused\n",
       "\n",
       "[364680 rows x 4 columns]"
      ]
     },
     "execution_count": 42,
     "metadata": {},
     "output_type": "execute_result"
    }
   ],
   "source": [
    "df"
   ]
  },
  {
   "cell_type": "code",
   "execution_count": 43,
   "id": "960b730c",
   "metadata": {},
   "outputs": [
    {
     "data": {
      "text/plain": [
       "Math         61241\n",
       "Science      60881\n",
       "Arabic       60749\n",
       "English      60684\n",
       "Geography    60640\n",
       "History      60485\n",
       "Name: Subject, dtype: int64"
      ]
     },
     "execution_count": 43,
     "metadata": {},
     "output_type": "execute_result"
    }
   ],
   "source": [
    "count=df['Subject'].value_counts()\n",
    "count"
   ]
  },
  {
   "cell_type": "code",
   "execution_count": 44,
   "id": "ecd6cd91",
   "metadata": {},
   "outputs": [
    {
     "data": {
      "text/plain": [
       "PRESENT       45982\n",
       "Absent        45751\n",
       "Present       45632\n",
       "Late          45509\n",
       " late         45508\n",
       "absnt         45478\n",
       "left early    45435\n",
       "excused       45385\n",
       "Name: Attendance_Status, dtype: int64"
      ]
     },
     "execution_count": 44,
     "metadata": {},
     "output_type": "execute_result"
    }
   ],
   "source": [
    "count1=df['Attendance_Status'].value_counts()\n",
    "count1"
   ]
  },
  {
   "cell_type": "code",
   "execution_count": 45,
   "id": "09f6e38e",
   "metadata": {},
   "outputs": [
    {
     "data": {
      "image/png": "[encoded data removed]",
      "text/plain": [
       "<Figure size 864x576 with 1 Axes>"
      ]
     },
     "metadata": {},
     "output_type": "display_data"
    }
   ],
   "source": [
    "plt.figure(figsize=(12,8))\n",
    "colors = [\"lightblue\",\"yellow\"]\n",
    "x=df.Subject.value_counts()\n",
    "y=df.Subject.value_counts().index\n",
    "#create pie chart\n",
    "explode=(0,6)\n",
    "plt.pie(x, labels = y, colors = colors, autopct='%1.1f%%',explode=None,shadow=True)\n",
    "plt.title(\"Percentage of Subject\",fontsize=20)\n",
    "plt.show()"
   ]
  },
  {
   "cell_type": "code",
   "execution_count": 46,
   "id": "640054d2",
   "metadata": {},
   "outputs": [
    {
     "data": {
      "image/png": "[encoded data removed]",
      "text/plain": [
       "<Figure size 864x576 with 1 Axes>"
      ]
     },
     "metadata": {},
     "output_type": "display_data"
    }
   ],
   "source": [
    "plt.figure(figsize=(12,8))\n",
    "colors = [\"Purple\",\"pink\"]\n",
    "x=df.Attendance_Status.value_counts()\n",
    "y=df.Attendance_Status.value_counts().index\n",
    "#create pie chart\n",
    "explode=(0,6)\n",
    "plt.pie(x, labels = y, colors = colors, autopct='%1.1f%%',explode=None,shadow=True)\n",
    "plt.title(\"Percentage of Attendance_Status\",fontsize=20)\n",
    "plt.show()"
   ]
  },
  {
   "cell_type": "code",
   "execution_count": 47,
   "id": "a75e45f8",
   "metadata": {},
   "outputs": [
    {
     "data": {
      "text/html": [
       "<div>\n",
       "<style scoped>\n",
       "    .dataframe tbody tr th:only-of-type {\n",
       "        vertical-align: middle;\n",
       "    }\n",
       "\n",
       "    .dataframe tbody tr th {\n",
       "        vertical-align: top;\n",
       "    }\n",
       "\n",
       "    .dataframe thead th {\n",
       "        text-align: right;\n",
       "    }\n",
       "</style>\n",
       "<table border=\"1\" class=\"dataframe\">\n",
       "  <thead>\n",
       "    <tr style=\"text-align: right;\">\n",
       "      <th></th>\n",
       "      <th>Student_ID</th>\n",
       "      <th>Subject</th>\n",
       "      <th>Assignment_Name</th>\n",
       "      <th>Due_Date</th>\n",
       "      <th>Status</th>\n",
       "      <th>Grade_Feedback</th>\n",
       "      <th>Guardian_Signature</th>\n",
       "    </tr>\n",
       "  </thead>\n",
       "  <tbody>\n",
       "    <tr>\n",
       "      <th>0</th>\n",
       "      <td>S12002</td>\n",
       "      <td>Science</td>\n",
       "      <td>Record.</td>\n",
       "      <td>2024-09-10</td>\n",
       "      <td>❌</td>\n",
       "      <td>C-</td>\n",
       "      <td>Yes</td>\n",
       "    </tr>\n",
       "    <tr>\n",
       "      <th>1</th>\n",
       "      <td>S01255</td>\n",
       "      <td>History</td>\n",
       "      <td>Head baby.</td>\n",
       "      <td>2024-10-16</td>\n",
       "      <td>❌</td>\n",
       "      <td>A+</td>\n",
       "      <td>No</td>\n",
       "    </tr>\n",
       "    <tr>\n",
       "      <th>2</th>\n",
       "      <td>S04968</td>\n",
       "      <td>Arabic</td>\n",
       "      <td>Keep audience medical free.</td>\n",
       "      <td>2025-02-11</td>\n",
       "      <td>Done</td>\n",
       "      <td>A+</td>\n",
       "      <td>Yes</td>\n",
       "    </tr>\n",
       "    <tr>\n",
       "      <th>3</th>\n",
       "      <td>S07925</td>\n",
       "      <td>Geography</td>\n",
       "      <td>Three half peace.</td>\n",
       "      <td>2024-10-03</td>\n",
       "      <td>Done</td>\n",
       "      <td>A+</td>\n",
       "      <td></td>\n",
       "    </tr>\n",
       "    <tr>\n",
       "      <th>4</th>\n",
       "      <td>S09980</td>\n",
       "      <td>Geography</td>\n",
       "      <td>Assume particularly.</td>\n",
       "      <td>2024-12-01</td>\n",
       "      <td>✅</td>\n",
       "      <td>B-</td>\n",
       "      <td>No</td>\n",
       "    </tr>\n",
       "    <tr>\n",
       "      <th>...</th>\n",
       "      <td>...</td>\n",
       "      <td>...</td>\n",
       "      <td>...</td>\n",
       "      <td>...</td>\n",
       "      <td>...</td>\n",
       "      <td>...</td>\n",
       "      <td>...</td>\n",
       "    </tr>\n",
       "    <tr>\n",
       "      <th>60775</th>\n",
       "      <td>S07059</td>\n",
       "      <td>English</td>\n",
       "      <td>Investment.</td>\n",
       "      <td>2024-12-03</td>\n",
       "      <td>✔</td>\n",
       "      <td>D</td>\n",
       "      <td>No</td>\n",
       "    </tr>\n",
       "    <tr>\n",
       "      <th>60776</th>\n",
       "      <td>S09068</td>\n",
       "      <td>Math</td>\n",
       "      <td>Study indicate fight.</td>\n",
       "      <td>2024-09-29</td>\n",
       "      <td>not done</td>\n",
       "      <td>B-</td>\n",
       "      <td>No</td>\n",
       "    </tr>\n",
       "    <tr>\n",
       "      <th>60777</th>\n",
       "      <td>S03678</td>\n",
       "      <td>History</td>\n",
       "      <td>Reach whose investment.</td>\n",
       "      <td>2024-10-16</td>\n",
       "      <td>not done</td>\n",
       "      <td>C-</td>\n",
       "      <td>No</td>\n",
       "    </tr>\n",
       "    <tr>\n",
       "      <th>60778</th>\n",
       "      <td>S06637</td>\n",
       "      <td>Math</td>\n",
       "      <td>Suggest figure.</td>\n",
       "      <td>2024-11-10</td>\n",
       "      <td>not done</td>\n",
       "      <td>B</td>\n",
       "      <td>Yes</td>\n",
       "    </tr>\n",
       "    <tr>\n",
       "      <th>60779</th>\n",
       "      <td>S08589</td>\n",
       "      <td>Math</td>\n",
       "      <td>Realize off speak factor.</td>\n",
       "      <td>2024-10-26</td>\n",
       "      <td>pending</td>\n",
       "      <td>B</td>\n",
       "      <td>Yes</td>\n",
       "    </tr>\n",
       "  </tbody>\n",
       "</table>\n",
       "<p>60780 rows × 7 columns</p>\n",
       "</div>"
      ],
      "text/plain": [
       "      Student_ID    Subject              Assignment_Name    Due_Date  \\\n",
       "0         S12002    Science                      Record.  2024-09-10   \n",
       "1         S01255    History                   Head baby.  2024-10-16   \n",
       "2         S04968     Arabic  Keep audience medical free.  2025-02-11   \n",
       "3         S07925  Geography            Three half peace.  2024-10-03   \n",
       "4         S09980  Geography         Assume particularly.  2024-12-01   \n",
       "...          ...        ...                          ...         ...   \n",
       "60775     S07059    English                  Investment.  2024-12-03   \n",
       "60776     S09068       Math        Study indicate fight.  2024-09-29   \n",
       "60777     S03678    History      Reach whose investment.  2024-10-16   \n",
       "60778     S06637       Math              Suggest figure.  2024-11-10   \n",
       "60779     S08589       Math    Realize off speak factor.  2024-10-26   \n",
       "\n",
       "         Status Grade_Feedback Guardian_Signature  \n",
       "0             ❌             C-                Yes  \n",
       "1             ❌             A+                 No  \n",
       "2         Done              A+                Yes  \n",
       "3         Done              A+                     \n",
       "4             ✅             B-                 No  \n",
       "...         ...            ...                ...  \n",
       "60775         ✔              D                 No  \n",
       "60776  not done             B-                 No  \n",
       "60777  not done             C-                 No  \n",
       "60778  not done              B                Yes  \n",
       "60779   pending              B                Yes  \n",
       "\n",
       "[60780 rows x 7 columns]"
      ]
     },
     "execution_count": 47,
     "metadata": {},
     "output_type": "execute_result"
    }
   ],
   "source": [
    "df1"
   ]
  },
  {
   "cell_type": "code",
   "execution_count": 72,
   "id": "31224f69",
   "metadata": {},
   "outputs": [],
   "source": [
    "grouped_eg = pd.pivot_table(df1, index = 'Status', columns = 'Subject', aggfunc = 'count', values = 'Grade_Feedback')"
   ]
  },
  {
   "cell_type": "code",
   "execution_count": 75,
   "id": "79e88d9d",
   "metadata": {},
   "outputs": [
    {
     "data": {
      "text/html": [
       "<div>\n",
       "<style scoped>\n",
       "    .dataframe tbody tr th:only-of-type {\n",
       "        vertical-align: middle;\n",
       "    }\n",
       "\n",
       "    .dataframe tbody tr th {\n",
       "        vertical-align: top;\n",
       "    }\n",
       "\n",
       "    .dataframe thead th {\n",
       "        text-align: right;\n",
       "    }\n",
       "</style>\n",
       "<table border=\"1\" class=\"dataframe\">\n",
       "  <thead>\n",
       "    <tr style=\"text-align: right;\">\n",
       "      <th>Subject</th>\n",
       "      <th>Arabic</th>\n",
       "      <th>English</th>\n",
       "      <th>Geography</th>\n",
       "      <th>History</th>\n",
       "      <th>Math</th>\n",
       "      <th>Science</th>\n",
       "    </tr>\n",
       "    <tr>\n",
       "      <th>Status</th>\n",
       "      <th></th>\n",
       "      <th></th>\n",
       "      <th></th>\n",
       "      <th></th>\n",
       "      <th></th>\n",
       "      <th></th>\n",
       "    </tr>\n",
       "  </thead>\n",
       "  <tbody>\n",
       "    <tr>\n",
       "      <th>Done</th>\n",
       "      <td>1707</td>\n",
       "      <td>1717</td>\n",
       "      <td>1752</td>\n",
       "      <td>1721</td>\n",
       "      <td>1728</td>\n",
       "      <td>1653</td>\n",
       "    </tr>\n",
       "    <tr>\n",
       "      <th>not done</th>\n",
       "      <td>1696</td>\n",
       "      <td>1710</td>\n",
       "      <td>1671</td>\n",
       "      <td>1722</td>\n",
       "      <td>1686</td>\n",
       "      <td>1749</td>\n",
       "    </tr>\n",
       "    <tr>\n",
       "      <th>pending</th>\n",
       "      <td>1695</td>\n",
       "      <td>1679</td>\n",
       "      <td>1647</td>\n",
       "      <td>1683</td>\n",
       "      <td>1636</td>\n",
       "      <td>1674</td>\n",
       "    </tr>\n",
       "    <tr>\n",
       "      <th>✅</th>\n",
       "      <td>1660</td>\n",
       "      <td>1673</td>\n",
       "      <td>1696</td>\n",
       "      <td>1598</td>\n",
       "      <td>1673</td>\n",
       "      <td>1713</td>\n",
       "    </tr>\n",
       "    <tr>\n",
       "      <th>✔</th>\n",
       "      <td>1677</td>\n",
       "      <td>1710</td>\n",
       "      <td>1687</td>\n",
       "      <td>1711</td>\n",
       "      <td>1665</td>\n",
       "      <td>1640</td>\n",
       "    </tr>\n",
       "    <tr>\n",
       "      <th>❌</th>\n",
       "      <td>1671</td>\n",
       "      <td>1720</td>\n",
       "      <td>1726</td>\n",
       "      <td>1675</td>\n",
       "      <td>1676</td>\n",
       "      <td>1683</td>\n",
       "    </tr>\n",
       "  </tbody>\n",
       "</table>\n",
       "</div>"
      ],
      "text/plain": [
       "Subject   Arabic  English  Geography  History  Math  Science\n",
       "Status                                                      \n",
       " Done       1707     1717       1752     1721  1728     1653\n",
       "not done    1696     1710       1671     1722  1686     1749\n",
       "pending     1695     1679       1647     1683  1636     1674\n",
       "✅           1660     1673       1696     1598  1673     1713\n",
       "✔           1677     1710       1687     1711  1665     1640\n",
       "❌           1671     1720       1726     1675  1676     1683"
      ]
     },
     "execution_count": 75,
     "metadata": {},
     "output_type": "execute_result"
    }
   ],
   "source": [
    "grouped_eg"
   ]
  },
  {
   "cell_type": "code",
   "execution_count": 73,
   "id": "ce7e12b8",
   "metadata": {},
   "outputs": [
    {
     "data": {
      "text/plain": [
       "<Figure size 1440x1440 with 0 Axes>"
      ]
     },
     "metadata": {},
     "output_type": "display_data"
    },
    {
     "data": {
      "image/png": "[encoded data removed]",
      "text/plain": [
       "<Figure size 432x288 with 1 Axes>"
      ]
     },
     "metadata": {
      "needs_background": "light"
     },
     "output_type": "display_data"
    }
   ],
   "source": [
    "plt.figure(figsize = (20,20))\n",
    "grouped_eg.plot(kind = 'bar')\n",
    "plt.title('Number of Students in all Subject')\n",
    "plt.ylabel('Number of subjects')\n",
    "plt.show()"
   ]
  },
  {
   "cell_type": "code",
   "execution_count": 48,
   "id": "abb32b42",
   "metadata": {},
   "outputs": [
    {
     "data": {
      "text/plain": [
       " Done       10278\n",
       "not done    10234\n",
       "❌           10151\n",
       "✔           10090\n",
       "pending     10014\n",
       "✅           10013\n",
       "Name: Status, dtype: int64"
      ]
     },
     "execution_count": 48,
     "metadata": {},
     "output_type": "execute_result"
    }
   ],
   "source": [
    "count2=df1['Status'].value_counts()\n",
    "count2"
   ]
  },
  {
   "cell_type": "code",
   "execution_count": 49,
   "id": "c4ffb097",
   "metadata": {},
   "outputs": [
    {
     "data": {
      "text/plain": [
       "<Axes: xlabel='Status', ylabel='Count'>"
      ]
     },
     "execution_count": 49,
     "metadata": {},
     "output_type": "execute_result"
    },
    {
     "data": {
      "image/png": "[encoded data removed]",
      "text/plain": [
       "<Figure size 864x576 with 1 Axes>"
      ]
     },
     "metadata": {
      "needs_background": "light"
     },
     "output_type": "display_data"
    }
   ],
   "source": [
    "plt.figure(figsize=(12,8))\n",
    "sns.histplot(data=df1,x=\"Status\",kde=True,bins=20)"
   ]
  },
  {
   "cell_type": "code",
   "execution_count": 50,
   "id": "2ec814b6",
   "metadata": {},
   "outputs": [
    {
     "data": {
      "text/plain": [
       "A+    7709\n",
       "B-    7639\n",
       "D     7631\n",
       "B     7591\n",
       "F     7586\n",
       "C     7585\n",
       "A     7533\n",
       "C-    7506\n",
       "Name: Grade_Feedback, dtype: int64"
      ]
     },
     "execution_count": 50,
     "metadata": {},
     "output_type": "execute_result"
    }
   ],
   "source": [
    "count3=df1['Grade_Feedback'].value_counts()\n",
    "count3"
   ]
  },
  {
   "cell_type": "code",
   "execution_count": 51,
   "id": "fe342358",
   "metadata": {},
   "outputs": [
    {
     "data": {
      "image/png": "[encoded data removed]",
      "text/plain": [
       "<Figure size 864x576 with 1 Axes>"
      ]
     },
     "metadata": {},
     "output_type": "display_data"
    }
   ],
   "source": [
    "plt.figure(figsize=(12,8))\n",
    "colors = [\"pink\",\"yellow\"]\n",
    "x=df1.Grade_Feedback.value_counts()\n",
    "y=df1.Grade_Feedback.value_counts().index\n",
    "#create pie chart\n",
    "explode=(0,6)\n",
    "plt.pie(x, labels = y, colors = colors, autopct='%1.1f%%',explode=None,shadow=True)\n",
    "plt.title(\"Percentage of Grade_Feedback\",fontsize=20)\n",
    "plt.show()"
   ]
  },
  {
   "cell_type": "code",
   "execution_count": 53,
   "id": "df8b2cf4",
   "metadata": {},
   "outputs": [
    {
     "data": {
      "text/plain": [
       "count       60780\n",
       "unique          6\n",
       "top       English\n",
       "freq        10209\n",
       "Name: Subject, dtype: object"
      ]
     },
     "execution_count": 53,
     "metadata": {},
     "output_type": "execute_result"
    }
   ],
   "source": [
    "df1.Subject\t.describe()"
   ]
  },
  {
   "cell_type": "code",
   "execution_count": 54,
   "id": "27632ff4",
   "metadata": {},
   "outputs": [
    {
     "data": {
      "text/plain": [
       "English      10209\n",
       "Geography    10179\n",
       "Science      10112\n",
       "History      10110\n",
       "Arabic       10106\n",
       "Math         10064\n",
       "Name: Subject, dtype: int64"
      ]
     },
     "execution_count": 54,
     "metadata": {},
     "output_type": "execute_result"
    }
   ],
   "source": [
    "df1.Subject.value_counts()"
   ]
  },
  {
   "cell_type": "code",
   "execution_count": 55,
   "id": "2f58b01e",
   "metadata": {},
   "outputs": [
    {
     "data": {
      "text/plain": [
       "<Axes: xlabel='Subject', ylabel='Count'>"
      ]
     },
     "execution_count": 55,
     "metadata": {},
     "output_type": "execute_result"
    },
    {
     "data": {
      "image/png": "[encoded data removed]",
      "text/plain": [
       "<Figure size 864x576 with 1 Axes>"
      ]
     },
     "metadata": {
      "needs_background": "light"
     },
     "output_type": "display_data"
    }
   ],
   "source": [
    "plt.figure(figsize=(12,8))\n",
    "sns.histplot(data=df1,x=\"Subject\",kde=True,bins=20,hue=\"Grade_Feedback\")"
   ]
  },
  {
   "cell_type": "code",
   "execution_count": 56,
   "id": "d06a8b88",
   "metadata": {},
   "outputs": [
    {
     "data": {
      "text/html": [
       "<div>\n",
       "<style scoped>\n",
       "    .dataframe tbody tr th:only-of-type {\n",
       "        vertical-align: middle;\n",
       "    }\n",
       "\n",
       "    .dataframe tbody tr th {\n",
       "        vertical-align: top;\n",
       "    }\n",
       "\n",
       "    .dataframe thead th {\n",
       "        text-align: right;\n",
       "    }\n",
       "</style>\n",
       "<table border=\"1\" class=\"dataframe\">\n",
       "  <thead>\n",
       "    <tr style=\"text-align: right;\">\n",
       "      <th></th>\n",
       "      <th>count</th>\n",
       "      <th>unique</th>\n",
       "      <th>top</th>\n",
       "      <th>freq</th>\n",
       "    </tr>\n",
       "    <tr>\n",
       "      <th>Subject</th>\n",
       "      <th></th>\n",
       "      <th></th>\n",
       "      <th></th>\n",
       "      <th></th>\n",
       "    </tr>\n",
       "  </thead>\n",
       "  <tbody>\n",
       "    <tr>\n",
       "      <th>Arabic</th>\n",
       "      <td>10106</td>\n",
       "      <td>8</td>\n",
       "      <td>D</td>\n",
       "      <td>1326</td>\n",
       "    </tr>\n",
       "    <tr>\n",
       "      <th>English</th>\n",
       "      <td>10209</td>\n",
       "      <td>8</td>\n",
       "      <td>B-</td>\n",
       "      <td>1317</td>\n",
       "    </tr>\n",
       "    <tr>\n",
       "      <th>Geography</th>\n",
       "      <td>10179</td>\n",
       "      <td>8</td>\n",
       "      <td>A+</td>\n",
       "      <td>1301</td>\n",
       "    </tr>\n",
       "    <tr>\n",
       "      <th>History</th>\n",
       "      <td>10110</td>\n",
       "      <td>8</td>\n",
       "      <td>A+</td>\n",
       "      <td>1307</td>\n",
       "    </tr>\n",
       "    <tr>\n",
       "      <th>Math</th>\n",
       "      <td>10064</td>\n",
       "      <td>8</td>\n",
       "      <td>F</td>\n",
       "      <td>1288</td>\n",
       "    </tr>\n",
       "    <tr>\n",
       "      <th>Science</th>\n",
       "      <td>10112</td>\n",
       "      <td>8</td>\n",
       "      <td>B</td>\n",
       "      <td>1335</td>\n",
       "    </tr>\n",
       "  </tbody>\n",
       "</table>\n",
       "</div>"
      ],
      "text/plain": [
       "           count unique top  freq\n",
       "Subject                          \n",
       "Arabic     10106      8   D  1326\n",
       "English    10209      8  B-  1317\n",
       "Geography  10179      8  A+  1301\n",
       "History    10110      8  A+  1307\n",
       "Math       10064      8   F  1288\n",
       "Science    10112      8   B  1335"
      ]
     },
     "execution_count": 56,
     "metadata": {},
     "output_type": "execute_result"
    }
   ],
   "source": [
    "df1.groupby(\"Subject\")[\"Grade_Feedback\"].describe()"
   ]
  },
  {
   "cell_type": "code",
   "execution_count": 57,
   "id": "3033a683",
   "metadata": {},
   "outputs": [
    {
     "data": {
      "text/plain": [
       "103    556\n",
       "110    553\n",
       "96     552\n",
       "82     545\n",
       "76     543\n",
       "      ... \n",
       "91     488\n",
       "92     484\n",
       "58     482\n",
       "70     474\n",
       "105    461\n",
       "Name: Exam_Score, Length: 71, dtype: int64"
      ]
     },
     "execution_count": 57,
     "metadata": {},
     "output_type": "execute_result"
    }
   ],
   "source": [
    "df2.Exam_Score.value_counts()"
   ]
  },
  {
   "cell_type": "code",
   "execution_count": 58,
   "id": "d4b18740",
   "metadata": {},
   "outputs": [
    {
     "data": {
      "text/html": [
       "<div>\n",
       "<style scoped>\n",
       "    .dataframe tbody tr th:only-of-type {\n",
       "        vertical-align: middle;\n",
       "    }\n",
       "\n",
       "    .dataframe tbody tr th {\n",
       "        vertical-align: top;\n",
       "    }\n",
       "\n",
       "    .dataframe thead th {\n",
       "        text-align: right;\n",
       "    }\n",
       "</style>\n",
       "<table border=\"1\" class=\"dataframe\">\n",
       "  <thead>\n",
       "    <tr style=\"text-align: right;\">\n",
       "      <th></th>\n",
       "      <th>count</th>\n",
       "      <th>mean</th>\n",
       "      <th>std</th>\n",
       "      <th>min</th>\n",
       "      <th>25%</th>\n",
       "      <th>50%</th>\n",
       "      <th>75%</th>\n",
       "      <th>max</th>\n",
       "    </tr>\n",
       "    <tr>\n",
       "      <th>Subject</th>\n",
       "      <th></th>\n",
       "      <th></th>\n",
       "      <th></th>\n",
       "      <th></th>\n",
       "      <th></th>\n",
       "      <th></th>\n",
       "      <th></th>\n",
       "      <th></th>\n",
       "    </tr>\n",
       "  </thead>\n",
       "  <tbody>\n",
       "    <tr>\n",
       "      <th>Arabic</th>\n",
       "      <td>6224.0</td>\n",
       "      <td>74.963850</td>\n",
       "      <td>20.596016</td>\n",
       "      <td>40.0</td>\n",
       "      <td>57.0</td>\n",
       "      <td>75.0</td>\n",
       "      <td>93.0</td>\n",
       "      <td>110.0</td>\n",
       "    </tr>\n",
       "    <tr>\n",
       "      <th>English</th>\n",
       "      <td>6043.0</td>\n",
       "      <td>75.237630</td>\n",
       "      <td>20.708274</td>\n",
       "      <td>40.0</td>\n",
       "      <td>57.0</td>\n",
       "      <td>75.0</td>\n",
       "      <td>93.0</td>\n",
       "      <td>110.0</td>\n",
       "    </tr>\n",
       "    <tr>\n",
       "      <th>Geography</th>\n",
       "      <td>6082.0</td>\n",
       "      <td>74.575469</td>\n",
       "      <td>20.438218</td>\n",
       "      <td>40.0</td>\n",
       "      <td>57.0</td>\n",
       "      <td>75.0</td>\n",
       "      <td>92.0</td>\n",
       "      <td>110.0</td>\n",
       "    </tr>\n",
       "    <tr>\n",
       "      <th>History</th>\n",
       "      <td>5991.0</td>\n",
       "      <td>75.121015</td>\n",
       "      <td>20.648466</td>\n",
       "      <td>40.0</td>\n",
       "      <td>57.0</td>\n",
       "      <td>76.0</td>\n",
       "      <td>93.0</td>\n",
       "      <td>110.0</td>\n",
       "    </tr>\n",
       "    <tr>\n",
       "      <th>Math</th>\n",
       "      <td>6035.0</td>\n",
       "      <td>74.711848</td>\n",
       "      <td>20.484931</td>\n",
       "      <td>40.0</td>\n",
       "      <td>57.0</td>\n",
       "      <td>74.0</td>\n",
       "      <td>93.0</td>\n",
       "      <td>110.0</td>\n",
       "    </tr>\n",
       "    <tr>\n",
       "      <th>Science</th>\n",
       "      <td>6093.0</td>\n",
       "      <td>75.177417</td>\n",
       "      <td>20.355141</td>\n",
       "      <td>40.0</td>\n",
       "      <td>58.0</td>\n",
       "      <td>75.0</td>\n",
       "      <td>93.0</td>\n",
       "      <td>110.0</td>\n",
       "    </tr>\n",
       "  </tbody>\n",
       "</table>\n",
       "</div>"
      ],
      "text/plain": [
       "            count       mean        std   min   25%   50%   75%    max\n",
       "Subject                                                               \n",
       "Arabic     6224.0  74.963850  20.596016  40.0  57.0  75.0  93.0  110.0\n",
       "English    6043.0  75.237630  20.708274  40.0  57.0  75.0  93.0  110.0\n",
       "Geography  6082.0  74.575469  20.438218  40.0  57.0  75.0  92.0  110.0\n",
       "History    5991.0  75.121015  20.648466  40.0  57.0  76.0  93.0  110.0\n",
       "Math       6035.0  74.711848  20.484931  40.0  57.0  74.0  93.0  110.0\n",
       "Science    6093.0  75.177417  20.355141  40.0  58.0  75.0  93.0  110.0"
      ]
     },
     "execution_count": 58,
     "metadata": {},
     "output_type": "execute_result"
    }
   ],
   "source": [
    "df2.groupby(\"Subject\")[\"Exam_Score\"].describe() #!!!!the most successful lesson is English and the worst is Geography "
   ]
  },
  {
   "cell_type": "code",
   "execution_count": 74,
   "id": "9a77c9a2",
   "metadata": {},
   "outputs": [
    {
     "data": {
      "text/html": [
       "<div>\n",
       "<style scoped>\n",
       "    .dataframe tbody tr th:only-of-type {\n",
       "        vertical-align: middle;\n",
       "    }\n",
       "\n",
       "    .dataframe tbody tr th {\n",
       "        vertical-align: top;\n",
       "    }\n",
       "\n",
       "    .dataframe thead th {\n",
       "        text-align: right;\n",
       "    }\n",
       "</style>\n",
       "<table border=\"1\" class=\"dataframe\">\n",
       "  <thead>\n",
       "    <tr style=\"text-align: right;\">\n",
       "      <th></th>\n",
       "      <th>Student_ID</th>\n",
       "      <th>Subject</th>\n",
       "      <th>Exam_Score</th>\n",
       "      <th>Homework_Completion</th>\n",
       "      <th>Teacher_Comments</th>\n",
       "    </tr>\n",
       "  </thead>\n",
       "  <tbody>\n",
       "    <tr>\n",
       "      <th>0</th>\n",
       "      <td>S00396</td>\n",
       "      <td>Arabic</td>\n",
       "      <td>76</td>\n",
       "      <td>90</td>\n",
       "      <td>Possible I large perhaps onto impact pretty ag...</td>\n",
       "    </tr>\n",
       "    <tr>\n",
       "      <th>1</th>\n",
       "      <td>S06544</td>\n",
       "      <td>Math</td>\n",
       "      <td>91</td>\n",
       "      <td>100</td>\n",
       "      <td>Attention very once light speak yeah against c...</td>\n",
       "    </tr>\n",
       "    <tr>\n",
       "      <th>2</th>\n",
       "      <td>S01277</td>\n",
       "      <td>Science</td>\n",
       "      <td>92</td>\n",
       "      <td>100</td>\n",
       "      <td>Something piece phone wish rich these where ca...</td>\n",
       "    </tr>\n",
       "    <tr>\n",
       "      <th>3</th>\n",
       "      <td>S00686</td>\n",
       "      <td>English</td>\n",
       "      <td>40</td>\n",
       "      <td>90</td>\n",
       "      <td>Generation same story stand better father perf...</td>\n",
       "    </tr>\n",
       "    <tr>\n",
       "      <th>4</th>\n",
       "      <td>S10984</td>\n",
       "      <td>History</td>\n",
       "      <td>57</td>\n",
       "      <td>90</td>\n",
       "      <td>Minute board finally traditional clear result ...</td>\n",
       "    </tr>\n",
       "    <tr>\n",
       "      <th>...</th>\n",
       "      <td>...</td>\n",
       "      <td>...</td>\n",
       "      <td>...</td>\n",
       "      <td>...</td>\n",
       "      <td>...</td>\n",
       "    </tr>\n",
       "    <tr>\n",
       "      <th>36462</th>\n",
       "      <td>S07796</td>\n",
       "      <td>History</td>\n",
       "      <td>64</td>\n",
       "      <td>80</td>\n",
       "      <td>Majority environment score not writer talk.</td>\n",
       "    </tr>\n",
       "    <tr>\n",
       "      <th>36463</th>\n",
       "      <td>S09766</td>\n",
       "      <td>Arabic</td>\n",
       "      <td>69</td>\n",
       "      <td>95</td>\n",
       "      <td>Environmental newspaper close story space seas...</td>\n",
       "    </tr>\n",
       "    <tr>\n",
       "      <th>36464</th>\n",
       "      <td>S04647</td>\n",
       "      <td>Geography</td>\n",
       "      <td>105</td>\n",
       "      <td>95</td>\n",
       "      <td>Music tend or occur know development see.</td>\n",
       "    </tr>\n",
       "    <tr>\n",
       "      <th>36465</th>\n",
       "      <td>S06033</td>\n",
       "      <td>Math</td>\n",
       "      <td>91</td>\n",
       "      <td>80</td>\n",
       "      <td>Car the choice college consumer before perform...</td>\n",
       "    </tr>\n",
       "    <tr>\n",
       "      <th>36467</th>\n",
       "      <td>S09604</td>\n",
       "      <td>English</td>\n",
       "      <td>48</td>\n",
       "      <td>100</td>\n",
       "      <td>Safe stage know impact guess happen process so...</td>\n",
       "    </tr>\n",
       "  </tbody>\n",
       "</table>\n",
       "<p>29092 rows × 5 columns</p>\n",
       "</div>"
      ],
      "text/plain": [
       "      Student_ID    Subject  Exam_Score  Homework_Completion  \\\n",
       "0         S00396     Arabic          76                   90   \n",
       "1         S06544       Math          91                  100   \n",
       "2         S01277    Science          92                  100   \n",
       "3         S00686    English          40                   90   \n",
       "4         S10984    History          57                   90   \n",
       "...          ...        ...         ...                  ...   \n",
       "36462     S07796    History          64                   80   \n",
       "36463     S09766     Arabic          69                   95   \n",
       "36464     S04647  Geography         105                   95   \n",
       "36465     S06033       Math          91                   80   \n",
       "36467     S09604    English          48                  100   \n",
       "\n",
       "                                        Teacher_Comments  \n",
       "0      Possible I large perhaps onto impact pretty ag...  \n",
       "1      Attention very once light speak yeah against c...  \n",
       "2      Something piece phone wish rich these where ca...  \n",
       "3      Generation same story stand better father perf...  \n",
       "4      Minute board finally traditional clear result ...  \n",
       "...                                                  ...  \n",
       "36462        Majority environment score not writer talk.  \n",
       "36463  Environmental newspaper close story space seas...  \n",
       "36464          Music tend or occur know development see.  \n",
       "36465  Car the choice college consumer before perform...  \n",
       "36467  Safe stage know impact guess happen process so...  \n",
       "\n",
       "[29092 rows x 5 columns]"
      ]
     },
     "execution_count": 74,
     "metadata": {},
     "output_type": "execute_result"
    }
   ],
   "source": [
    "df2"
   ]
  },
  {
   "cell_type": "code",
   "execution_count": 61,
   "id": "e3b069b4",
   "metadata": {},
   "outputs": [],
   "source": [
    "df2.rename(columns={\"Homework_Completion_%\": \"Homework_Completion\"},inplace=True)"
   ]
  },
  {
   "cell_type": "code",
   "execution_count": 63,
   "id": "5855c678",
   "metadata": {},
   "outputs": [
    {
     "name": "stdout",
     "output_type": "stream",
     "text": [
      "[ 90 100  95  80]\n",
      "int64\n"
     ]
    }
   ],
   "source": [
    "# Convert to string and clean the percentage signs\n",
    "df2['Homework_Completion'] = (\n",
    "    df2['Homework_Completion']\n",
    "    .astype(str)                          \n",
    "    .str.strip()                           # remove leading/trailing spaces\n",
    "    .str.replace('%', '', regex=False)     # remove percent signs\n",
    ")\n",
    "\n",
    "# Now convert to numeric, setting errors='coerce' will turn bad values (like '-5', 'abc') into NaN\n",
    "df2['Homework_Completion'] = pd.to_numeric(df2['Homework_Completion'], errors='coerce')\n",
    "\n",
    "# Optionally: filter out invalid or suspicious values (like negative percentages)\n",
    "df2 = df2[df2['Homework_Completion'] >= 0]\n",
    "\n",
    "# Fill any missing values with the mean\n",
    "df2['Homework_Completion'] = df2['Homework_Completion'].fillna(df2['Homework_Completion'].mean())\n",
    "\n",
    "# Double check!\n",
    "print(df2['Homework_Completion'].unique())\n",
    "print(df2['Homework_Completion'].dtype)\n"
   ]
  },
  {
   "cell_type": "code",
   "execution_count": 80,
   "id": "32a5edf8",
   "metadata": {},
   "outputs": [
    {
     "name": "stdout",
     "output_type": "stream",
     "text": [
      "Average score using Standard method: nan\n"
     ]
    }
   ],
   "source": [
    "print('Average score using Standard method: {}'.format(np.mean(df2.Exam_Score[df2.Homework_Completion == 'Standard'])))"
   ]
  },
  {
   "cell_type": "code",
   "execution_count": 81,
   "id": "0bb77fac",
   "metadata": {},
   "outputs": [
    {
     "data": {
      "text/plain": [
       "Exam_Score             75.034030\n",
       "Homework_Completion    91.285405\n",
       "dtype: float64"
      ]
     },
     "execution_count": 81,
     "metadata": {},
     "output_type": "execute_result"
    }
   ],
   "source": [
    "df2.mean()"
   ]
  },
  {
   "cell_type": "code",
   "execution_count": 78,
   "id": "333b34f5",
   "metadata": {},
   "outputs": [
    {
     "data": {
      "text/plain": [
       "<Axes: xlabel='Homework_Completion', ylabel='Exam_Score'>"
      ]
     },
     "execution_count": 78,
     "metadata": {},
     "output_type": "execute_result"
    },
    {
     "data": {
      "image/png": "[encoded data removed]",
      "text/plain": [
       "<Figure size 432x288 with 1 Axes>"
      ]
     },
     "metadata": {
      "needs_background": "light"
     },
     "output_type": "display_data"
    }
   ],
   "source": [
    "sns.barplot(x='Homework_Completion', y = 'Exam_Score', data = df2, ci = None)"
   ]
  },
  {
   "cell_type": "code",
   "execution_count": 83,
   "id": "bfc16b40",
   "metadata": {},
   "outputs": [
    {
     "data": {
      "image/png": "[encoded data removed]",
      "text/plain": [
       "<Figure size 432x288 with 1 Axes>"
      ]
     },
     "metadata": {
      "needs_background": "light"
     },
     "output_type": "display_data"
    }
   ],
   "source": [
    "sns.countplot(df2['Homework_Completion'])\n",
    "plt.title('Value counts of Homework_Completion')\n",
    "plt.show()"
   ]
  },
  {
   "cell_type": "code",
   "execution_count": 85,
   "id": "9fb25dc7",
   "metadata": {},
   "outputs": [
    {
     "data": {
      "text/plain": [
       "Text(0.5, 1.0, 'Average Math Score by Subjects')"
      ]
     },
     "execution_count": 85,
     "metadata": {},
     "output_type": "execute_result"
    },
    {
     "data": {
      "image/png": "[encoded data removed]",
      "text/plain": [
       "<Figure size 720x576 with 1 Axes>"
      ]
     },
     "metadata": {
      "needs_background": "light"
     },
     "output_type": "display_data"
    }
   ],
   "source": [
    "plt.figure(figsize=(10,8))\n",
    "sns.barplot(x = 'Homework_Completion', y = 'Exam_Score', hue = 'Subject', data = df2, ci = None, palette = 'Blues_d')\n",
    "plt.title('Average Math Score by Subjects')"
   ]
  },
  {
   "cell_type": "code",
   "execution_count": 88,
   "id": "e433132c",
   "metadata": {},
   "outputs": [
    {
     "data": {
      "text/plain": [
       "Subject\n",
       "Arabic       75.14\n",
       "English      75.40\n",
       "Geography    74.75\n",
       "History      75.11\n",
       "Math         74.71\n",
       "Science      75.08\n",
       "Name: Exam_Score, dtype: float64"
      ]
     },
     "execution_count": 88,
     "metadata": {},
     "output_type": "execute_result"
    }
   ],
   "source": [
    "np.round(df2.groupby('Subject')['Exam_Score'].mean(), 2)"
   ]
  },
  {
   "cell_type": "code",
   "execution_count": 87,
   "id": "bd4a3583",
   "metadata": {},
   "outputs": [
    {
     "data": {
      "text/html": [
       "<div>\n",
       "<style scoped>\n",
       "    .dataframe tbody tr th:only-of-type {\n",
       "        vertical-align: middle;\n",
       "    }\n",
       "\n",
       "    .dataframe tbody tr th {\n",
       "        vertical-align: top;\n",
       "    }\n",
       "\n",
       "    .dataframe thead th {\n",
       "        text-align: right;\n",
       "    }\n",
       "</style>\n",
       "<table border=\"1\" class=\"dataframe\">\n",
       "  <thead>\n",
       "    <tr style=\"text-align: right;\">\n",
       "      <th>Subject</th>\n",
       "      <th>Arabic</th>\n",
       "      <th>English</th>\n",
       "      <th>Geography</th>\n",
       "      <th>History</th>\n",
       "      <th>Math</th>\n",
       "      <th>Science</th>\n",
       "    </tr>\n",
       "    <tr>\n",
       "      <th>Homework_Completion</th>\n",
       "      <th></th>\n",
       "      <th></th>\n",
       "      <th></th>\n",
       "      <th></th>\n",
       "      <th></th>\n",
       "      <th></th>\n",
       "    </tr>\n",
       "  </thead>\n",
       "  <tbody>\n",
       "    <tr>\n",
       "      <th>80</th>\n",
       "      <td>75.23</td>\n",
       "      <td>75.13</td>\n",
       "      <td>74.75</td>\n",
       "      <td>74.33</td>\n",
       "      <td>74.32</td>\n",
       "      <td>74.80</td>\n",
       "    </tr>\n",
       "    <tr>\n",
       "      <th>90</th>\n",
       "      <td>74.61</td>\n",
       "      <td>76.14</td>\n",
       "      <td>75.17</td>\n",
       "      <td>75.64</td>\n",
       "      <td>74.57</td>\n",
       "      <td>75.92</td>\n",
       "    </tr>\n",
       "    <tr>\n",
       "      <th>95</th>\n",
       "      <td>75.77</td>\n",
       "      <td>75.70</td>\n",
       "      <td>74.23</td>\n",
       "      <td>75.50</td>\n",
       "      <td>74.56</td>\n",
       "      <td>74.58</td>\n",
       "    </tr>\n",
       "    <tr>\n",
       "      <th>100</th>\n",
       "      <td>74.92</td>\n",
       "      <td>74.69</td>\n",
       "      <td>74.85</td>\n",
       "      <td>74.95</td>\n",
       "      <td>75.44</td>\n",
       "      <td>75.08</td>\n",
       "    </tr>\n",
       "  </tbody>\n",
       "</table>\n",
       "</div>"
      ],
      "text/plain": [
       "Subject              Arabic  English  Geography  History   Math  Science\n",
       "Homework_Completion                                                     \n",
       "80                    75.23    75.13      74.75    74.33  74.32    74.80\n",
       "90                    74.61    76.14      75.17    75.64  74.57    75.92\n",
       "95                    75.77    75.70      74.23    75.50  74.56    74.58\n",
       "100                   74.92    74.69      74.85    74.95  75.44    75.08"
      ]
     },
     "execution_count": 87,
     "metadata": {},
     "output_type": "execute_result"
    }
   ],
   "source": [
    "np.round(pd.pivot_table(df2, index = 'Homework_Completion', columns = 'Subject', values = 'Exam_Score'), 2)\n",
    "#We have seen the numerical relationship between those who do their homework and their exam results."
   ]
  },
  {
   "cell_type": "code",
   "execution_count": 65,
   "id": "2935c128",
   "metadata": {},
   "outputs": [
    {
     "data": {
      "text/html": [
       "<div>\n",
       "<style scoped>\n",
       "    .dataframe tbody tr th:only-of-type {\n",
       "        vertical-align: middle;\n",
       "    }\n",
       "\n",
       "    .dataframe tbody tr th {\n",
       "        vertical-align: top;\n",
       "    }\n",
       "\n",
       "    .dataframe thead th {\n",
       "        text-align: right;\n",
       "    }\n",
       "</style>\n",
       "<table border=\"1\" class=\"dataframe\">\n",
       "  <thead>\n",
       "    <tr style=\"text-align: right;\">\n",
       "      <th></th>\n",
       "      <th>Student_ID</th>\n",
       "      <th>Full_Name</th>\n",
       "      <th>Date_of_Birth</th>\n",
       "      <th>Grade_Level</th>\n",
       "      <th>Emergency_Contact</th>\n",
       "    </tr>\n",
       "  </thead>\n",
       "  <tbody>\n",
       "    <tr>\n",
       "      <th>0</th>\n",
       "      <td>S00001</td>\n",
       "      <td>Donna Williams</td>\n",
       "      <td>2007-02-10</td>\n",
       "      <td>Grade 3</td>\n",
       "      <td>781-534-4258x9046</td>\n",
       "    </tr>\n",
       "    <tr>\n",
       "      <th>1</th>\n",
       "      <td>S00002</td>\n",
       "      <td>John Stafford</td>\n",
       "      <td>2014-11-26</td>\n",
       "      <td>Grade 5</td>\n",
       "      <td>+1-782-691-6291x99704</td>\n",
       "    </tr>\n",
       "    <tr>\n",
       "      <th>2</th>\n",
       "      <td>S00003</td>\n",
       "      <td>Chad Harper</td>\n",
       "      <td>2017-02-07</td>\n",
       "      <td>Grade 3</td>\n",
       "      <td>308.517.3750</td>\n",
       "    </tr>\n",
       "    <tr>\n",
       "      <th>3</th>\n",
       "      <td>S00004</td>\n",
       "      <td>Anthony Martin</td>\n",
       "      <td>11-10-2014</td>\n",
       "      <td>Grade 5</td>\n",
       "      <td>306-771-1524x116</td>\n",
       "    </tr>\n",
       "    <tr>\n",
       "      <th>4</th>\n",
       "      <td>S00005</td>\n",
       "      <td>Mary Stone</td>\n",
       "      <td>04-01-2016</td>\n",
       "      <td>Grade 3</td>\n",
       "      <td>+1-794-484-8495x7772</td>\n",
       "    </tr>\n",
       "    <tr>\n",
       "      <th>...</th>\n",
       "      <td>...</td>\n",
       "      <td>...</td>\n",
       "      <td>...</td>\n",
       "      <td>...</td>\n",
       "      <td>...</td>\n",
       "    </tr>\n",
       "    <tr>\n",
       "      <th>12151</th>\n",
       "      <td>S12152</td>\n",
       "      <td>Justin Owens</td>\n",
       "      <td>2011-03-02</td>\n",
       "      <td>Grade 2</td>\n",
       "      <td>3243437060</td>\n",
       "    </tr>\n",
       "    <tr>\n",
       "      <th>12152</th>\n",
       "      <td>S12153</td>\n",
       "      <td>Brandi Kennedy</td>\n",
       "      <td>2009-02-12</td>\n",
       "      <td>Grade 3</td>\n",
       "      <td>+1-799-331-4684x47607</td>\n",
       "    </tr>\n",
       "    <tr>\n",
       "      <th>12153</th>\n",
       "      <td>S12154</td>\n",
       "      <td>Chase Douglas</td>\n",
       "      <td>2013-12-10</td>\n",
       "      <td>Grade 5</td>\n",
       "      <td>720-287-0008x591</td>\n",
       "    </tr>\n",
       "    <tr>\n",
       "      <th>12154</th>\n",
       "      <td>S12155</td>\n",
       "      <td>Dawn Ward</td>\n",
       "      <td>2009-09-19</td>\n",
       "      <td>Grade 5</td>\n",
       "      <td>+1-834-406-9230x3725</td>\n",
       "    </tr>\n",
       "    <tr>\n",
       "      <th>12155</th>\n",
       "      <td>S12156</td>\n",
       "      <td>Shannon Brown</td>\n",
       "      <td>2018-06-23</td>\n",
       "      <td>Grade 5</td>\n",
       "      <td>3793041001</td>\n",
       "    </tr>\n",
       "  </tbody>\n",
       "</table>\n",
       "<p>12156 rows × 5 columns</p>\n",
       "</div>"
      ],
      "text/plain": [
       "      Student_ID       Full_Name Date_of_Birth Grade_Level  \\\n",
       "0         S00001  Donna Williams    2007-02-10     Grade 3   \n",
       "1         S00002   John Stafford    2014-11-26     Grade 5   \n",
       "2         S00003     Chad Harper    2017-02-07     Grade 3   \n",
       "3         S00004  Anthony Martin    11-10-2014     Grade 5   \n",
       "4         S00005      Mary Stone    04-01-2016     Grade 3   \n",
       "...          ...             ...           ...         ...   \n",
       "12151     S12152    Justin Owens    2011-03-02     Grade 2   \n",
       "12152     S12153  Brandi Kennedy    2009-02-12     Grade 3   \n",
       "12153     S12154   Chase Douglas    2013-12-10     Grade 5   \n",
       "12154     S12155       Dawn Ward    2009-09-19     Grade 5   \n",
       "12155     S12156   Shannon Brown    2018-06-23     Grade 5   \n",
       "\n",
       "           Emergency_Contact  \n",
       "0          781-534-4258x9046  \n",
       "1      +1-782-691-6291x99704  \n",
       "2               308.517.3750  \n",
       "3           306-771-1524x116  \n",
       "4       +1-794-484-8495x7772  \n",
       "...                      ...  \n",
       "12151             3243437060  \n",
       "12152  +1-799-331-4684x47607  \n",
       "12153       720-287-0008x591  \n",
       "12154   +1-834-406-9230x3725  \n",
       "12155             3793041001  \n",
       "\n",
       "[12156 rows x 5 columns]"
      ]
     },
     "execution_count": 65,
     "metadata": {},
     "output_type": "execute_result"
    }
   ],
   "source": [
    "df3"
   ]
  },
  {
   "cell_type": "code",
   "execution_count": 66,
   "id": "2aed9893",
   "metadata": {},
   "outputs": [
    {
     "data": {
      "text/plain": [
       "Grade 5    2472\n",
       "Grade 4    2454\n",
       "Grade 3    2447\n",
       "Grade 2    2400\n",
       "Grade 1    2383\n",
       "Name: Grade_Level, dtype: int64"
      ]
     },
     "execution_count": 66,
     "metadata": {},
     "output_type": "execute_result"
    }
   ],
   "source": [
    "df3.Grade_Level.value_counts()"
   ]
  },
  {
   "cell_type": "code",
   "execution_count": 67,
   "id": "f2509bad",
   "metadata": {},
   "outputs": [
    {
     "data": {
      "image/png": "[encoded data removed]",
      "text/plain": [
       "<Figure size 864x576 with 1 Axes>"
      ]
     },
     "metadata": {},
     "output_type": "display_data"
    }
   ],
   "source": [
    "plt.figure(figsize=(12,8))\n",
    "colors = [\"purple\",\"green\"]\n",
    "x=df3.Grade_Level.value_counts()\n",
    "y=df3.Grade_Level.value_counts().index\n",
    "#create pie chart\n",
    "explode=(0,6)\n",
    "plt.pie(x, labels = y, colors = colors, autopct='%1.1f%%',explode=None,shadow=True)\n",
    "plt.title(\"Percentage of Grade_Levels\",fontsize=20)\n",
    "plt.show()"
   ]
  },
  {
   "cell_type": "code",
   "execution_count": 68,
   "id": "a0bff5ae",
   "metadata": {},
   "outputs": [
    {
     "data": {
      "text/html": [
       "<div>\n",
       "<style scoped>\n",
       "    .dataframe tbody tr th:only-of-type {\n",
       "        vertical-align: middle;\n",
       "    }\n",
       "\n",
       "    .dataframe tbody tr th {\n",
       "        vertical-align: top;\n",
       "    }\n",
       "\n",
       "    .dataframe thead th {\n",
       "        text-align: right;\n",
       "    }\n",
       "</style>\n",
       "<table border=\"1\" class=\"dataframe\">\n",
       "  <thead>\n",
       "    <tr style=\"text-align: right;\">\n",
       "      <th></th>\n",
       "      <th>Student_ID</th>\n",
       "      <th>Date</th>\n",
       "      <th>Message_Type</th>\n",
       "      <th>Message_Content</th>\n",
       "    </tr>\n",
       "  </thead>\n",
       "  <tbody>\n",
       "    <tr>\n",
       "      <th>0</th>\n",
       "      <td>S01133</td>\n",
       "      <td>2025-01-20</td>\n",
       "      <td>Automated Reminder</td>\n",
       "      <td>Cut authority ball must cut to maintain think ...</td>\n",
       "    </tr>\n",
       "    <tr>\n",
       "      <th>1</th>\n",
       "      <td>S11179</td>\n",
       "      <td>2024-11-16</td>\n",
       "      <td>Parent to Teacher</td>\n",
       "      <td>Far baby different conference evening gas floo...</td>\n",
       "    </tr>\n",
       "    <tr>\n",
       "      <th>2</th>\n",
       "      <td>S09537</td>\n",
       "      <td>2024-12-03</td>\n",
       "      <td>Parent to Teacher</td>\n",
       "      <td>According this reality reality wish join seaso...</td>\n",
       "    </tr>\n",
       "    <tr>\n",
       "      <th>3</th>\n",
       "      <td>S00478</td>\n",
       "      <td>2025-01-25</td>\n",
       "      <td>Teacher to Parent</td>\n",
       "      <td>Feel article ever success choose serve forget ...</td>\n",
       "    </tr>\n",
       "    <tr>\n",
       "      <th>4</th>\n",
       "      <td>S04736</td>\n",
       "      <td>2024-10-15</td>\n",
       "      <td>Parent to Teacher</td>\n",
       "      <td>Friend wonder contain customer operation half ...</td>\n",
       "    </tr>\n",
       "    <tr>\n",
       "      <th>...</th>\n",
       "      <td>...</td>\n",
       "      <td>...</td>\n",
       "      <td>...</td>\n",
       "      <td>...</td>\n",
       "    </tr>\n",
       "    <tr>\n",
       "      <th>24307</th>\n",
       "      <td>S09877</td>\n",
       "      <td>2024-12-28</td>\n",
       "      <td>Automated Reminder</td>\n",
       "      <td>Guess six young dream fish player eat instead ...</td>\n",
       "    </tr>\n",
       "    <tr>\n",
       "      <th>24308</th>\n",
       "      <td>S00821</td>\n",
       "      <td>2024-09-21</td>\n",
       "      <td>Automated Reminder</td>\n",
       "      <td>Card maybe technology collection someone home ...</td>\n",
       "    </tr>\n",
       "    <tr>\n",
       "      <th>24309</th>\n",
       "      <td>S06702</td>\n",
       "      <td>2024-11-03</td>\n",
       "      <td>Automated Reminder</td>\n",
       "      <td></td>\n",
       "    </tr>\n",
       "    <tr>\n",
       "      <th>24310</th>\n",
       "      <td>S11091</td>\n",
       "      <td>2025-01-24</td>\n",
       "      <td>Automated Reminder</td>\n",
       "      <td>Quite agreement star best language bad tree pe...</td>\n",
       "    </tr>\n",
       "    <tr>\n",
       "      <th>24311</th>\n",
       "      <td>S03501</td>\n",
       "      <td>2024-10-31</td>\n",
       "      <td>Automated Reminder</td>\n",
       "      <td>Baby price expert certain forget ball bar prod...</td>\n",
       "    </tr>\n",
       "  </tbody>\n",
       "</table>\n",
       "<p>24312 rows × 4 columns</p>\n",
       "</div>"
      ],
      "text/plain": [
       "      Student_ID        Date        Message_Type  \\\n",
       "0         S01133  2025-01-20  Automated Reminder   \n",
       "1         S11179  2024-11-16   Parent to Teacher   \n",
       "2         S09537  2024-12-03   Parent to Teacher   \n",
       "3         S00478  2025-01-25   Teacher to Parent   \n",
       "4         S04736  2024-10-15   Parent to Teacher   \n",
       "...          ...         ...                 ...   \n",
       "24307     S09877  2024-12-28  Automated Reminder   \n",
       "24308     S00821  2024-09-21  Automated Reminder   \n",
       "24309     S06702  2024-11-03  Automated Reminder   \n",
       "24310     S11091  2025-01-24  Automated Reminder   \n",
       "24311     S03501  2024-10-31  Automated Reminder   \n",
       "\n",
       "                                         Message_Content  \n",
       "0      Cut authority ball must cut to maintain think ...  \n",
       "1      Far baby different conference evening gas floo...  \n",
       "2      According this reality reality wish join seaso...  \n",
       "3      Feel article ever success choose serve forget ...  \n",
       "4      Friend wonder contain customer operation half ...  \n",
       "...                                                  ...  \n",
       "24307  Guess six young dream fish player eat instead ...  \n",
       "24308  Card maybe technology collection someone home ...  \n",
       "24309                                                     \n",
       "24310  Quite agreement star best language bad tree pe...  \n",
       "24311  Baby price expert certain forget ball bar prod...  \n",
       "\n",
       "[24312 rows x 4 columns]"
      ]
     },
     "execution_count": 68,
     "metadata": {},
     "output_type": "execute_result"
    }
   ],
   "source": [
    "df4"
   ]
  },
  {
   "cell_type": "code",
   "execution_count": 69,
   "id": "6d3542dd",
   "metadata": {},
   "outputs": [
    {
     "data": {
      "text/plain": [
       "Teacher to Parent     8149\n",
       "Automated Reminder    8106\n",
       "Parent to Teacher     8057\n",
       "Name: Message_Type, dtype: int64"
      ]
     },
     "execution_count": 69,
     "metadata": {},
     "output_type": "execute_result"
    }
   ],
   "source": [
    "df4.Message_Type.value_counts() #in this table content we understand that teacher to parent feedback is dominant but \n",
    "#they are nearly the same results alittle bit difference by numbers. parent to teacher is less "
   ]
  },
  {
   "cell_type": "markdown",
   "id": "da28e689",
   "metadata": {},
   "source": [
    "# Modelling/Predictions"
   ]
  },
  {
   "cell_type": "markdown",
   "id": "51389f74",
   "metadata": {},
   "source": [
    "Modelling and Predictions\n",
    "  In this section we build a predictor based on the performance dataset. Although exam scores are continuous, we will convert the problem into a binary classification task by creating a 'Passed' column with the following logic:\n",
    "\n",
    "  A student is assumed to have passed if their Exam_Score is 50 or above.\n",
    "We then use the cleaned homework completion percentage (as a proxy for engagement) to predict whether a student passed or not using Logistic Regression. Finally, we evaluate our model using the accuracy score and generate a confusion matrix.\n",
    "\n",
    "  This simplistic model illustrates the application of machine learning in an academic context. In a real-world application, more features and more rigorous modeling would be advised."
   ]
  },
  {
   "cell_type": "code",
   "execution_count": 91,
   "id": "ccce9706",
   "metadata": {},
   "outputs": [
    {
     "data": {
      "text/html": [
       "<div>\n",
       "<style scoped>\n",
       "    .dataframe tbody tr th:only-of-type {\n",
       "        vertical-align: middle;\n",
       "    }\n",
       "\n",
       "    .dataframe tbody tr th {\n",
       "        vertical-align: top;\n",
       "    }\n",
       "\n",
       "    .dataframe thead th {\n",
       "        text-align: right;\n",
       "    }\n",
       "</style>\n",
       "<table border=\"1\" class=\"dataframe\">\n",
       "  <thead>\n",
       "    <tr style=\"text-align: right;\">\n",
       "      <th></th>\n",
       "      <th>Student_ID</th>\n",
       "      <th>Subject</th>\n",
       "      <th>Exam_Score</th>\n",
       "      <th>Homework_Completion</th>\n",
       "      <th>Teacher_Comments</th>\n",
       "    </tr>\n",
       "  </thead>\n",
       "  <tbody>\n",
       "    <tr>\n",
       "      <th>0</th>\n",
       "      <td>S00396</td>\n",
       "      <td>Arabic</td>\n",
       "      <td>76</td>\n",
       "      <td>90</td>\n",
       "      <td>Possible I large perhaps onto impact pretty ag...</td>\n",
       "    </tr>\n",
       "    <tr>\n",
       "      <th>1</th>\n",
       "      <td>S06544</td>\n",
       "      <td>Math</td>\n",
       "      <td>91</td>\n",
       "      <td>100</td>\n",
       "      <td>Attention very once light speak yeah against c...</td>\n",
       "    </tr>\n",
       "    <tr>\n",
       "      <th>2</th>\n",
       "      <td>S01277</td>\n",
       "      <td>Science</td>\n",
       "      <td>92</td>\n",
       "      <td>100</td>\n",
       "      <td>Something piece phone wish rich these where ca...</td>\n",
       "    </tr>\n",
       "    <tr>\n",
       "      <th>3</th>\n",
       "      <td>S00686</td>\n",
       "      <td>English</td>\n",
       "      <td>40</td>\n",
       "      <td>90</td>\n",
       "      <td>Generation same story stand better father perf...</td>\n",
       "    </tr>\n",
       "    <tr>\n",
       "      <th>4</th>\n",
       "      <td>S10984</td>\n",
       "      <td>History</td>\n",
       "      <td>57</td>\n",
       "      <td>90</td>\n",
       "      <td>Minute board finally traditional clear result ...</td>\n",
       "    </tr>\n",
       "    <tr>\n",
       "      <th>...</th>\n",
       "      <td>...</td>\n",
       "      <td>...</td>\n",
       "      <td>...</td>\n",
       "      <td>...</td>\n",
       "      <td>...</td>\n",
       "    </tr>\n",
       "    <tr>\n",
       "      <th>36462</th>\n",
       "      <td>S07796</td>\n",
       "      <td>History</td>\n",
       "      <td>64</td>\n",
       "      <td>80</td>\n",
       "      <td>Majority environment score not writer talk.</td>\n",
       "    </tr>\n",
       "    <tr>\n",
       "      <th>36463</th>\n",
       "      <td>S09766</td>\n",
       "      <td>Arabic</td>\n",
       "      <td>69</td>\n",
       "      <td>95</td>\n",
       "      <td>Environmental newspaper close story space seas...</td>\n",
       "    </tr>\n",
       "    <tr>\n",
       "      <th>36464</th>\n",
       "      <td>S04647</td>\n",
       "      <td>Geography</td>\n",
       "      <td>105</td>\n",
       "      <td>95</td>\n",
       "      <td>Music tend or occur know development see.</td>\n",
       "    </tr>\n",
       "    <tr>\n",
       "      <th>36465</th>\n",
       "      <td>S06033</td>\n",
       "      <td>Math</td>\n",
       "      <td>91</td>\n",
       "      <td>80</td>\n",
       "      <td>Car the choice college consumer before perform...</td>\n",
       "    </tr>\n",
       "    <tr>\n",
       "      <th>36467</th>\n",
       "      <td>S09604</td>\n",
       "      <td>English</td>\n",
       "      <td>48</td>\n",
       "      <td>100</td>\n",
       "      <td>Safe stage know impact guess happen process so...</td>\n",
       "    </tr>\n",
       "  </tbody>\n",
       "</table>\n",
       "<p>29092 rows × 5 columns</p>\n",
       "</div>"
      ],
      "text/plain": [
       "      Student_ID    Subject  Exam_Score  Homework_Completion  \\\n",
       "0         S00396     Arabic          76                   90   \n",
       "1         S06544       Math          91                  100   \n",
       "2         S01277    Science          92                  100   \n",
       "3         S00686    English          40                   90   \n",
       "4         S10984    History          57                   90   \n",
       "...          ...        ...         ...                  ...   \n",
       "36462     S07796    History          64                   80   \n",
       "36463     S09766     Arabic          69                   95   \n",
       "36464     S04647  Geography         105                   95   \n",
       "36465     S06033       Math          91                   80   \n",
       "36467     S09604    English          48                  100   \n",
       "\n",
       "                                        Teacher_Comments  \n",
       "0      Possible I large perhaps onto impact pretty ag...  \n",
       "1      Attention very once light speak yeah against c...  \n",
       "2      Something piece phone wish rich these where ca...  \n",
       "3      Generation same story stand better father perf...  \n",
       "4      Minute board finally traditional clear result ...  \n",
       "...                                                  ...  \n",
       "36462        Majority environment score not writer talk.  \n",
       "36463  Environmental newspaper close story space seas...  \n",
       "36464          Music tend or occur know development see.  \n",
       "36465  Car the choice college consumer before perform...  \n",
       "36467  Safe stage know impact guess happen process so...  \n",
       "\n",
       "[29092 rows x 5 columns]"
      ]
     },
     "execution_count": 91,
     "metadata": {},
     "output_type": "execute_result"
    }
   ],
   "source": [
    "df2"
   ]
  },
  {
   "cell_type": "code",
   "execution_count": 92,
   "id": "c307d8bd",
   "metadata": {},
   "outputs": [],
   "source": [
    "####The easy way to see Model Accuracy and we have good score,too. Because our model is fresh and give the better solution."
   ]
  },
  {
   "cell_type": "code",
   "execution_count": 93,
   "id": "99434fc2",
   "metadata": {},
   "outputs": [
    {
     "name": "stdout",
     "output_type": "stream",
     "text": [
      "Model Accuracy: 0.85\n"
     ]
    },
    {
     "data": {
      "image/png": "[encoded data removed]",
      "text/plain": [
       "<Figure size 432x288 with 2 Axes>"
      ]
     },
     "metadata": {
      "needs_background": "light"
     },
     "output_type": "display_data"
    }
   ],
   "source": [
    "import pandas as pd\n",
    "import numpy as np\n",
    "from sklearn.model_selection import train_test_split\n",
    "from sklearn.linear_model import LogisticRegression\n",
    "from sklearn.metrics import accuracy_score, confusion_matrix\n",
    "import seaborn as sns\n",
    "import matplotlib.pyplot as plt\n",
    "\n",
    "\n",
    "\n",
    "# We Create binary target\n",
    "df2['Passed'] = (df2['Exam_Score'] >= 50).astype(int)\n",
    "\n",
    "# Features and target\n",
    "X = df2[['Homework_Completion']].copy()\n",
    "y = df2['Passed']\n",
    "\n",
    "# We Handle missing values\n",
    "X = X.fillna(X.mean())\n",
    "\n",
    "# We Train-test split\n",
    "X_train, X_test, y_train, y_test = train_test_split(X, y, test_size=0.2, random_state=42)\n",
    "\n",
    "# We Train logistic regression\n",
    "model = LogisticRegression()\n",
    "model.fit(X_train, y_train)\n",
    "\n",
    "# Predict and evaluate\n",
    "y_pred = model.predict(X_test)\n",
    "acc = accuracy_score(y_test, y_pred)\n",
    "print(f\"Model Accuracy: {acc:.2f}\")\n",
    "\n",
    "# Confusion matrix plot\n",
    "cm = confusion_matrix(y_test, y_pred)\n",
    "plt.figure()\n",
    "sns.heatmap(cm, annot=True, fmt='d', cmap='Blues')\n",
    "plt.xlabel('Predicted')\n",
    "plt.ylabel('Actual')\n",
    "plt.title('Confusion Matrix')\n",
    "plt.show()\n"
   ]
  },
  {
   "cell_type": "markdown",
   "id": "75117a93",
   "metadata": {},
   "source": [
    "# The Result and Conclusion\n",
    "#Logistic Regression Model Accuracy is 0.85 and so the model does a very good job in predicting"
   ]
  },
  {
   "cell_type": "code",
   "execution_count": 94,
   "id": "ff511f58",
   "metadata": {},
   "outputs": [
    {
     "data": {
      "text/html": [
       "<div>\n",
       "<style scoped>\n",
       "    .dataframe tbody tr th:only-of-type {\n",
       "        vertical-align: middle;\n",
       "    }\n",
       "\n",
       "    .dataframe tbody tr th {\n",
       "        vertical-align: top;\n",
       "    }\n",
       "\n",
       "    .dataframe thead th {\n",
       "        text-align: right;\n",
       "    }\n",
       "</style>\n",
       "<table border=\"1\" class=\"dataframe\">\n",
       "  <thead>\n",
       "    <tr style=\"text-align: right;\">\n",
       "      <th></th>\n",
       "      <th>Homework_Completion</th>\n",
       "    </tr>\n",
       "  </thead>\n",
       "  <tbody>\n",
       "    <tr>\n",
       "      <th>11616</th>\n",
       "      <td>90</td>\n",
       "    </tr>\n",
       "    <tr>\n",
       "      <th>21961</th>\n",
       "      <td>90</td>\n",
       "    </tr>\n",
       "    <tr>\n",
       "      <th>106</th>\n",
       "      <td>80</td>\n",
       "    </tr>\n",
       "    <tr>\n",
       "      <th>14815</th>\n",
       "      <td>95</td>\n",
       "    </tr>\n",
       "    <tr>\n",
       "      <th>19778</th>\n",
       "      <td>80</td>\n",
       "    </tr>\n",
       "  </tbody>\n",
       "</table>\n",
       "</div>"
      ],
      "text/plain": [
       "       Homework_Completion\n",
       "11616                   90\n",
       "21961                   90\n",
       "106                     80\n",
       "14815                   95\n",
       "19778                   80"
      ]
     },
     "execution_count": 94,
     "metadata": {},
     "output_type": "execute_result"
    }
   ],
   "source": [
    "X_train.head()"
   ]
  },
  {
   "cell_type": "code",
   "execution_count": 95,
   "id": "4752fc45",
   "metadata": {
    "scrolled": true
   },
   "outputs": [
    {
     "data": {
      "text/html": [
       "<div>\n",
       "<style scoped>\n",
       "    .dataframe tbody tr th:only-of-type {\n",
       "        vertical-align: middle;\n",
       "    }\n",
       "\n",
       "    .dataframe tbody tr th {\n",
       "        vertical-align: top;\n",
       "    }\n",
       "\n",
       "    .dataframe thead th {\n",
       "        text-align: right;\n",
       "    }\n",
       "</style>\n",
       "<table border=\"1\" class=\"dataframe\">\n",
       "  <thead>\n",
       "    <tr style=\"text-align: right;\">\n",
       "      <th></th>\n",
       "      <th>count</th>\n",
       "      <th>mean</th>\n",
       "      <th>std</th>\n",
       "      <th>min</th>\n",
       "      <th>25%</th>\n",
       "      <th>50%</th>\n",
       "      <th>75%</th>\n",
       "      <th>max</th>\n",
       "    </tr>\n",
       "  </thead>\n",
       "  <tbody>\n",
       "    <tr>\n",
       "      <th>Homework_Completion</th>\n",
       "      <td>23273.0</td>\n",
       "      <td>91.280669</td>\n",
       "      <td>7.41372</td>\n",
       "      <td>80.0</td>\n",
       "      <td>80.0</td>\n",
       "      <td>95.0</td>\n",
       "      <td>100.0</td>\n",
       "      <td>100.0</td>\n",
       "    </tr>\n",
       "  </tbody>\n",
       "</table>\n",
       "</div>"
      ],
      "text/plain": [
       "                       count       mean      std   min   25%   50%    75%  \\\n",
       "Homework_Completion  23273.0  91.280669  7.41372  80.0  80.0  95.0  100.0   \n",
       "\n",
       "                       max  \n",
       "Homework_Completion  100.0  "
      ]
     },
     "execution_count": 95,
     "metadata": {},
     "output_type": "execute_result"
    }
   ],
   "source": [
    "X_train.describe().T"
   ]
  },
  {
   "cell_type": "markdown",
   "id": "d55a72bd",
   "metadata": {},
   "source": [
    "##Predicting Results"
   ]
  },
  {
   "cell_type": "code",
   "execution_count": 96,
   "id": "81f51120",
   "metadata": {},
   "outputs": [
    {
     "data": {
      "text/plain": [
       "array([1, 1, 1, ..., 1, 1, 1])"
      ]
     },
     "execution_count": 96,
     "metadata": {},
     "output_type": "execute_result"
    }
   ],
   "source": [
    "y_pred_test = model.predict(X_test)\n",
    "\n",
    "y_pred_test"
   ]
  },
  {
   "cell_type": "code",
   "execution_count": 97,
   "id": "9c862170",
   "metadata": {},
   "outputs": [],
   "source": [
    "#Check the occuracy score below"
   ]
  },
  {
   "cell_type": "code",
   "execution_count": 98,
   "id": "5495e7bd",
   "metadata": {},
   "outputs": [
    {
     "name": "stdout",
     "output_type": "stream",
     "text": [
      "Model accuracy score: 0.8519\n"
     ]
    }
   ],
   "source": [
    "from sklearn.metrics import accuracy_score\n",
    "\n",
    "print('Model accuracy score: {0:0.4f}'. format(accuracy_score(y_test, y_pred_test)))"
   ]
  },
  {
   "cell_type": "code",
   "execution_count": 99,
   "id": "77da6a90",
   "metadata": {},
   "outputs": [],
   "source": [
    "from sklearn.model_selection import train_test_split"
   ]
  },
  {
   "cell_type": "code",
   "execution_count": 100,
   "id": "1a22638e",
   "metadata": {},
   "outputs": [],
   "source": [
    "from sklearn.model_selection import train_test_split "
   ]
  },
  {
   "cell_type": "code",
   "execution_count": 101,
   "id": "ac054429",
   "metadata": {},
   "outputs": [],
   "source": [
    "from sklearn.linear_model import LogisticRegression  \n",
    "from sklearn.ensemble import RandomForestClassifier\n",
    "from sklearn.tree import DecisionTreeClassifier, export_graphviz\n",
    "from sklearn import metrics"
   ]
  },
  {
   "cell_type": "markdown",
   "id": "53a973ad",
   "metadata": {},
   "source": [
    "# i tried with another way for the solution with different ways \n",
    "#try to find the similar solution and make the classification more reliable but \n",
    "#the code couldn't run unfortunately, there is smth that i couldn't see.this is the function that \n",
    "#we used our past project to achieve very good resuts, but i could't run the other codes \n",
    "#and don't undertsand it would run i will show a very good visual for machine learning classifications."
   ]
  },
  {
   "cell_type": "code",
   "execution_count": 102,
   "id": "7eb31aeb",
   "metadata": {},
   "outputs": [],
   "source": [
    "def LR_model(X,y):\n",
    "    print(\"Spliting Datasets....\")\n",
    "    from sklearn.model_selection import train_test_split\n",
    "    np.random.seed(42)\n",
    "    X_train, X_test, y_train, y_test = train_test_split(X, y,test_size=0.2)\n",
    "    print(\"Successfully splitted!!!\")\n",
    "    \n",
    "    print(\"Model Fitting.....\")\n",
    "    lr = LogisticRegression()\n",
    "    lr.fit(X_train, y_train)\n",
    "    print(\"Successfully model fitted!!!\")\n",
    "\n",
    "    from sklearn.metrics import classification_report, confusion_matrix, accuracy_score\n",
    "    print(\"------------Training Prediction--------------\")\n",
    "    y_preds = lr.predict(X_train)\n",
    "    print(f\"Classfifcation Report:\\n\\n{classification_report(y_train, y_preds)}\\n\\n\")\n",
    "\n",
    "    cf_matrix = confusion_matrix(y_train, y_preds)\n",
    "\n",
    "    fig, ax = plt.subplots(figsize=(6,4))\n",
    "    sns.heatmap(cf_matrix, annot=True, cmap='coolwarm', fmt='g')\n",
    "    fig.suptitle(t=\"Confusion Matrix\",\n",
    "                 color=\"orange\",\n",
    "                 fontsize=16);\n",
    "    ax.set(xlabel=\"Predicted Label\",\n",
    "           ylabel=\"Actual Label\");\n",
    "\n",
    "    print(f\"Accuracy Score:\\n\\n{accuracy_score(y_train, y_preds)*100:2f}%\\n\")\n",
    "\n",
    "    print(\"------------Test Prediction--------------\")\n",
    "\n",
    "    y_preds =lr.predict(X_test)\n",
    "    print(f\"Classfifcation Report:\\n\\n{classification_report(y_test, y_preds)}\\n\\n\")\n",
    "\n",
    "    cf_matrix = confusion_matrix(y_test, y_preds)\n",
    "\n",
    "    fig, ax = plt.subplots(figsize=(6,4))\n",
    "    sns.heatmap(cf_matrix, annot=True, cmap='coolwarm', fmt='g')\n",
    "    fig.suptitle(t=\"Confusion Matrix\",\n",
    "                 color=\"orange\",\n",
    "                 fontsize=16);\n",
    "    ax.set(xlabel=\"Predicted Label\",\n",
    "           ylabel=\"Actual Label\");\n",
    "\n",
    "    print(f\"Accuracy Score:\\n\\n{accuracy_score(y_test, y_preds)*100:2f}%\\n\")"
   ]
  },
  {
   "cell_type": "code",
   "execution_count": 103,
   "id": "08ae29b8",
   "metadata": {},
   "outputs": [],
   "source": [
    "import numpy as np\n",
    "import matplotlib.pyplot as plt\n",
    "import seaborn as sns\n",
    "from sklearn.linear_model import LogisticRegression"
   ]
  },
  {
   "cell_type": "code",
   "execution_count": 104,
   "id": "969cc5bf",
   "metadata": {},
   "outputs": [],
   "source": [
    "import import_ipynb\n",
    "import main ### Importing main.ipynb\n"
   ]
  },
  {
   "cell_type": "code",
   "execution_count": 121,
   "id": "99c0abb8",
   "metadata": {},
   "outputs": [],
   "source": [
    "X_train = np.array([2.0, 3.0])  # Shape (2,)\n",
    "X_train = X_train.reshape(-1, 1)  # Now it will have shape (2, 1) — 2 samples, 1 feature each\n"
   ]
  },
  {
   "cell_type": "code",
   "execution_count": 122,
   "id": "52a0c510",
   "metadata": {},
   "outputs": [
    {
     "name": "stdout",
     "output_type": "stream",
     "text": [
      "(1, 2)\n"
     ]
    }
   ],
   "source": [
    "X = np.array([2.0, 3.0])  # Initial shape (2,)\n",
    "\n",
    "# Reshape it for prediction or fitting\n",
    "X_reshaped = X.reshape(1, -1)  # This becomes shape (1, 2)\n",
    "print(X_reshaped.shape)  # Should print (1, 2)"
   ]
  },
  {
   "cell_type": "code",
   "execution_count": 123,
   "id": "d462daf9",
   "metadata": {},
   "outputs": [
    {
     "name": "stdout",
     "output_type": "stream",
     "text": [
      "(2,)\n"
     ]
    }
   ],
   "source": [
    "print(X.shape) "
   ]
  },
  {
   "cell_type": "code",
   "execution_count": 124,
   "id": "37951753",
   "metadata": {},
   "outputs": [
    {
     "data": {
      "text/plain": [
       "array([2., 3.])"
      ]
     },
     "execution_count": 124,
     "metadata": {},
     "output_type": "execute_result"
    }
   ],
   "source": [
    "X"
   ]
  },
  {
   "cell_type": "markdown",
   "id": "c70dc241",
   "metadata": {},
   "source": [
    "model.predict(X_reshaped)"
   ]
  },
  {
   "cell_type": "markdown",
   "id": "3f075a26",
   "metadata": {},
   "source": [
    "from sklearn.linear_model import LogisticRegression\n",
    "\n",
    "# Example: Assuming your target variable y_train is already set up\n",
    "lr = LogisticRegression()\n",
    "\n",
    "# Make sure X_train is reshaped correctly (as shown above)\n",
    "lr.fit(X_train, y_train)\n",
    "\n",
    "print(\"Successfully model fitted!!!\")\n"
   ]
  },
  {
   "cell_type": "markdown",
   "id": "0657832b",
   "metadata": {},
   "source": [
    "LR_model(main.X, main.y)"
   ]
  },
  {
   "cell_type": "code",
   "execution_count": null,
   "id": "29a0091d",
   "metadata": {},
   "outputs": [],
   "source": [
    " # Check shape\n"
   ]
  },
  {
   "cell_type": "code",
   "execution_count": null,
   "id": "85f437bf",
   "metadata": {},
   "outputs": [],
   "source": [
    "model.predict(X_reshaped)"
   ]
  },
  {
   "cell_type": "markdown",
   "id": "8803a5d2",
   "metadata": {},
   "source": [
    "# With RandomForest Classifier"
   ]
  },
  {
   "cell_type": "code",
   "execution_count": null,
   "id": "325c58eb",
   "metadata": {},
   "outputs": [],
   "source": [
    "import numpy as np\n",
    "import matplotlib.pyplot as plt\n",
    "import seaborn as sns\n",
    "from sklearn.ensemble import RandomForestClassifier"
   ]
  },
  {
   "cell_type": "code",
   "execution_count": null,
   "id": "1b784e10",
   "metadata": {},
   "outputs": [],
   "source": [
    "import import_ipynb\n",
    "import main;"
   ]
  },
  {
   "cell_type": "markdown",
   "id": "7cc35a5e",
   "metadata": {},
   "source": [
    "###Function for model fitting, model evaluation and Visualization."
   ]
  },
  {
   "cell_type": "code",
   "execution_count": null,
   "id": "119eb480",
   "metadata": {},
   "outputs": [],
   "source": [
    "# Putting feature variable to X\n",
    "X = df2.drop('Homework_Completion',axis=1)\n",
    "# Putting response variable to y\n",
    "y = df2['Homework_Completion']"
   ]
  },
  {
   "cell_type": "code",
   "execution_count": null,
   "id": "d97b375e",
   "metadata": {},
   "outputs": [],
   "source": [
    "# now lets split the data into train and test\n",
    "from sklearn.model_selection import train_test_split\n",
    "\n",
    "# Splitting the data into train and test\n",
    "X_train, X_test, y_train, y_test = train_test_split(X, y, train_size=0.7, random_state=42)\n",
    "X_train.shape, X_test.shape"
   ]
  },
  {
   "cell_type": "code",
   "execution_count": null,
   "id": "ba2dfaad",
   "metadata": {},
   "outputs": [],
   "source": [
    "df2['Homework_Completion'] = pd.to_datetime(df2['Homework_Completion']).astype('int64')"
   ]
  },
  {
   "cell_type": "code",
   "execution_count": null,
   "id": "71f9db7e",
   "metadata": {},
   "outputs": [],
   "source": [
    "df2['Homework_Completion'].nunique()"
   ]
  },
  {
   "cell_type": "code",
   "execution_count": null,
   "id": "bec55be2",
   "metadata": {},
   "outputs": [],
   "source": []
  },
  {
   "cell_type": "code",
   "execution_count": null,
   "id": "455cdb9d",
   "metadata": {},
   "outputs": [],
   "source": [
    "%%time\n",
    "from sklearn.ensemble import RandomForestClassifier\n",
    "\n",
    "classifier_rf = RandomForestClassifier(random_state=42, n_jobs=-1, max_depth=5,\n",
    "                                       n_estimators=100, oob_score=True)\n",
    "classifier_rf.fit(X_train, y_train)"
   ]
  },
  {
   "cell_type": "code",
   "execution_count": null,
   "id": "3393c1ee",
   "metadata": {},
   "outputs": [],
   "source": [
    "# checking the oob score\n",
    "classifier_rf.oob_score"
   ]
  },
  {
   "cell_type": "code",
   "execution_count": null,
   "id": "e832a0ae",
   "metadata": {},
   "outputs": [],
   "source": [
    "#Doing hyperparameter tuning for Random Forest using GridSearchCV and fit the data."
   ]
  },
  {
   "cell_type": "code",
   "execution_count": null,
   "id": "c21b5665",
   "metadata": {},
   "outputs": [],
   "source": [
    "%%time\n",
    "rf = RandomForestClassifier(random_state=42, n_jobs=-1)\n",
    "\n",
    "params = {\n",
    "    'max_depth': [2,3,5,10,20],\n",
    "    'min_samples_leaf': [5,10,20,50,100,200],\n",
    "    'n_estimators': [10,25,30,50,100,200]\n",
    "}\n",
    "\n",
    "from sklearn.model_selection import GridSearchCV\n",
    "\n",
    "# Instantiate the grid search model\n",
    "grid_search = GridSearchCV(estimator=rf,\n",
    "                           param_grid=params,\n",
    "                           cv = 4,\n",
    "                           n_jobs=-1, verbose=1, scoring=\"accuracy\")\n",
    "grid_search.fit(float(X_train), float(y_train))"
   ]
  },
  {
   "cell_type": "code",
   "execution_count": null,
   "id": "f317ace6",
   "metadata": {},
   "outputs": [],
   "source": [
    "def RF_model(X,y):\n",
    "    print(\"Spliting Datasets....\")\n",
    "    from sklearn.model_selection import train_test_split\n",
    "    np.random.seed(42)\n",
    "    X_train, X_test, y_train, y_test = train_test_split(X, y,test_size=0.2)\n",
    "    print(\"Successfully splitted!!!\")\n",
    "    \n",
    "    print(\"Model Fitting.....\")\n",
    "    rf = RandomForestClassifier()\n",
    "    rf.fit(X_train, y_train)\n",
    "    print(\"Successfully model fitted!!!\")\n",
    "\n",
    "    from sklearn.metrics import classification_report, confusion_matrix, accuracy_score\n",
    "    print(\"------------Training Prediction--------------\")\n",
    "    y_preds = rf.predict(X_train)\n",
    "    print(f\"Classfifcation Report:\\n\\n{classification_report(y_train, y_preds)}\\n\\n\")\n",
    "\n",
    "    cf_matrix = confusion_matrix(y_train, y_preds)\n",
    "\n",
    "    fig, ax = plt.subplots(figsize=(6,4))\n",
    "    sns.heatmap(cf_matrix, annot=True, cmap='coolwarm', fmt='g')\n",
    "    fig.suptitle(t=\"Confusion Matrix of Training Datasets\",\n",
    "                 color=\"orange\",\n",
    "                 fontsize=16);\n",
    "    ax.set(xlabel=\"Predicted Label\",\n",
    "           ylabel=\"Actual Label\");\n",
    "\n",
    "    print(f\"Accuracy Score:\\n\\n{accuracy_score(y_train, y_preds)*100:2f}%\\n\")\n",
    "\n",
    "    print(\"------------Test Prediction--------------\")\n",
    "\n",
    "    y_preds = rf.predict(X_test)\n",
    "    print(f\"Classfifcation Report:\\n\\n{classification_report(y_test, y_preds)}\\n\\n\")\n",
    "\n",
    "    cf_matrix = confusion_matrix(y_test, y_preds)\n",
    "\n",
    "    fig, ax = plt.subplots(figsize=(6,4))\n",
    "    fig.suptitle(t=\"Confusion Matrix of Testing Datasets\",\n",
    "                 color=\"orange\",\n",
    "                 fontsize=16);\n",
    "    ax.set(xlabel=\"Predicted Label\",\n",
    "           ylabel=\"Actual Label\");\n",
    "\n",
    "    print(f\"Accuracy Score:\\n\\n{accuracy_score(y_test, y_preds)*100:2f}%\\n\")"
   ]
  },
  {
   "cell_type": "markdown",
   "id": "687ee8b8",
   "metadata": {},
   "source": [
    "# RandomForestClassifier on Normal Datasets."
   ]
  },
  {
   "cell_type": "code",
   "execution_count": null,
   "id": "d022fe45",
   "metadata": {},
   "outputs": [],
   "source": [
    "def get_data():\n",
    "    X = df2.drop('Homework_Completion',axis=1)\n",
    "    y = df2['Homework_Completion']\n",
    "    return X,y"
   ]
  },
  {
   "cell_type": "code",
   "execution_count": null,
   "id": "804a93bb",
   "metadata": {},
   "outputs": [],
   "source": [
    "def get_data():\n",
    "    import pandas as pd\n",
    "    X = df2.drop('Homework_Completion', axis=1)\n",
    "    y = df2['Homework_Completion']\n",
    "    return X, y\n"
   ]
  },
  {
   "cell_type": "code",
   "execution_count": null,
   "id": "90569d3d",
   "metadata": {},
   "outputs": [],
   "source": []
  },
  {
   "cell_type": "code",
   "execution_count": null,
   "id": "aadfbe35",
   "metadata": {},
   "outputs": [],
   "source": [
    "df2['Homework_Completion'].array.reshape(-1, 1)"
   ]
  },
  {
   "cell_type": "code",
   "execution_count": null,
   "id": "62e831aa",
   "metadata": {},
   "outputs": [],
   "source": [
    "import numpy as np\n",
    "sample = np.array([2.0, 3.0]).reshape(1, -1)\n"
   ]
  },
  {
   "cell_type": "code",
   "execution_count": null,
   "id": "abfd47d2",
   "metadata": {},
   "outputs": [],
   "source": [
    "import numpy as np\n",
    "sample = np.array([2.0, 3.0]).reshape(-1, 1)\n"
   ]
  },
  {
   "cell_type": "code",
   "execution_count": null,
   "id": "0dd61393",
   "metadata": {},
   "outputs": [],
   "source": [
    "from sklearn.ensemble import RandomForestClassifier\n",
    "import numpy as np\n",
    "\n",
    "# Dummy model\n",
    "model = RandomForestClassifier()\n",
    "X_train = np.array([[1, 2], [3, 4], [5, 6]])\n",
    "y_train = np.array([0, 1, 0])\n",
    "model.fit(X_train, y_train)\n",
    "\n",
    "# Prediction with a single sample (2 features)\n",
    "sample = np.array([2.0, 3.0]).reshape(1, -1)\n",
    "pred = model.predict(sample)\n",
    "print(pred)\n"
   ]
  },
  {
   "cell_type": "code",
   "execution_count": null,
   "id": "29d9bd87",
   "metadata": {},
   "outputs": [],
   "source": []
  }
 ],
 "metadata": {
  "kernelspec": {
   "display_name": "Python 3 (ipykernel)",
   "language": "python",
   "name": "python3"
  },
  "language_info": {
   "codemirror_mode": {
    "name": "ipython",
    "version": 3
   },
   "file_extension": ".py",
   "mimetype": "text/x-python",
   "name": "python",
   "nbconvert_exporter": "python",
   "pygments_lexer": "ipython3",
   "version": "3.10.6"
  }
 },
 "nbformat": 4,
 "nbformat_minor": 5
}
